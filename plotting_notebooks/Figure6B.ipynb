{
 "cells": [
  {
   "cell_type": "code",
   "execution_count": null,
   "id": "44659527-40d7-4c17-a2a7-a3b630cd0aeb",
   "metadata": {},
   "outputs": [],
   "source": [
    "import pandas as pd\n",
    "import numpy as np\n",
    "import plotnine as p9\n",
    "import glob\n",
    "import yaml\n",
    "from plotnine_prism import *"
   ]
  },
  {
   "cell_type": "code",
   "execution_count": null,
   "id": "751e37a0-2896-4f4f-9f87-ee69e9cd3e5f",
   "metadata": {},
   "outputs": [],
   "source": [
    "with open(\"../config.yaml\", \"r\") as stream:\n",
    "    DATASET_INFO = yaml.safe_load(stream)\n",
    "DATASET_INFO"
   ]
  },
  {
   "cell_type": "code",
   "execution_count": null,
   "id": "b76e3b42-9773-4715-bc0c-6247b4308b33",
   "metadata": {},
   "outputs": [],
   "source": [
    "pearson_variation_paths = glob.glob(\"../*/out_benchmark*/prediction/model_evaluation_table.csv\")\n",
    "pearson_variation_paths = [f for f in pearson_variation_paths if 'COAD' not in f]\n",
    "pearson_variation_paths"
   ]
  },
  {
   "cell_type": "code",
   "execution_count": null,
   "id": "aa0b5eea-9aba-46df-8970-deb8a28a8604",
   "metadata": {},
   "outputs": [],
   "source": [
    "data_var = []\n",
    "for file in pearson_variation_paths:\n",
    "    tab = pd.read_csv(file)\n",
    "    dataset_name = file.split(\"/\")[1]\n",
    "    slide_type = file.split(\"/\")[2].split(\"_\")[-1]\n",
    "    \n",
    "    tab[\"Dataset\"] = DATASET_INFO[\"DATASET_NAME\"][f\"{dataset_name}_{slide_type}\"]\n",
    "    data_var.append(tab)\n",
    "data_var = pd.concat(data_var)\n",
    "data_var.Dataset = pd.Categorical(data_var.Dataset, DATASET_INFO[\"DATASET_NAME\"].values())\n",
    "data_var.pearson_median = data_var.pearson_median.astype(float)\n",
    "data_var.pearson_std = data_var.pearson_std.astype(float)\n",
    "data_var"
   ]
  },
  {
   "cell_type": "code",
   "execution_count": null,
   "id": "06ae77f8-9a6c-40f4-82de-bb16adcbda9c",
   "metadata": {},
   "outputs": [],
   "source": [
    "data_var = data_var[~data_var.model.isin([\"LinearRegression\", \"MLP\"])]"
   ]
  },
  {
   "cell_type": "code",
   "execution_count": null,
   "id": "548bdb30-85d9-4561-953a-be7cc6f4dbe4",
   "metadata": {},
   "outputs": [],
   "source": [
    "tab = data_var.copy()\n",
    "position_dodge_width = 0.4\n",
    "\n",
    "\n",
    "tab[\"model_rank\"] = tab.groupby(\"Dataset\", observed=False).pearson_median.rank(ascending=False)\n",
    "tab[\"Method\"] = pd.Categorical(tab.model, tab.groupby(\"model\").model_rank.agg(\"median\").sort_values().index)\n",
    "tab.top_n = tab.top_n.astype(\"category\")\n",
    "g = (p9.ggplot(tab, p9.aes(\"top_n\", \"pearson_median\", color=\"Method\"))\n",
    " + p9.geom_line(p9.aes(color=\"Method\", group=\"Method\"), linetype=\"dashed\", size=1,\n",
    "                position=p9.position_dodge(width=position_dodge_width))\n",
    " + p9.geom_point(p9.aes(color=\"Method\"), position=p9.position_dodge(width=position_dodge_width), size=0.7) \n",
    " + p9.facet_wrap(\"~Dataset\", scales=\"free_y\", ncol=2)\n",
    " + p9.geom_errorbar(p9.aes(x=\"top_n\", ymin=\"pearson_median-pearson_std\",\n",
    "                           ymax=\"pearson_median+pearson_std\", color=\"Method\"), \n",
    "                    width=0.4, alpha=1, size=0.5,\n",
    "                    position=p9.position_dodge(width=position_dodge_width))\n",
    " + p9.theme_bw()\n",
    " + p9.theme(panel_spacing_y=0, panel_spacing_x=0, figure_size=(10, 5), \n",
    "            #axis_text_x = p9.element_blank(), \n",
    "            legend_position=\"right\",\n",
    "            text=p9.element_text(size=17),\n",
    "            strip_text=p9.element_text(size=17),\n",
    "            legend_title=p9.element_text(size=17),\n",
    "            legend_text=p9.element_text(size=16))\n",
    " + p9.ylab(\"Pearson correlation\")\n",
    " + p9.xlab(\"Most variable genes\")\n",
    " + p9.theme(axis_text_x = p9.element_text(angle = 90, hjust = 1))\n",
    " + scale_color_prism(palette = \"colors\")\n",
    " + p9.guides(color=p9.guide_legend(nrow=10, override_aes = p9.aes(shape = \".\")))\n",
    " #+ p9.scale_y_continuous(breaks=list(np.arange(int(tab['auc_median'].min()), int(tab['auc_median'].max())+1, 0.1)))\n",
    ")\n",
    "g.save(\"figures/Figure6B-TCGA_benchmark.png\", dpi=300)\n",
    "g"
   ]
  },
  {
   "cell_type": "code",
   "execution_count": null,
   "id": "8213ceb6-f693-4d80-b39e-f57fddb2c531",
   "metadata": {},
   "outputs": [],
   "source": [
    "tab = data_var.copy()\n",
    "position_dodge_width = 0.2\n",
    "\n",
    "\n",
    "tab[\"model_rank\"] = tab.groupby(\"Dataset\", observed=False).pearson_median.rank(ascending=False)\n",
    "tab[\"Method\"] = pd.Categorical(tab.model, tab.groupby(\"model\").model_rank.agg(\"median\").sort_values().index)\n",
    "\n",
    "tab[\"Dataset_name\"] = tab[\"Dataset\"].apply(lambda x: x.split(\" (\")[0])\n",
    "tab[\"Dataset_name\"] = pd.Categorical(tab[\"Dataset_name\"], [\"TCGA SKCM\", \"TCGA KIRC\"])\n",
    "tab[\"Dataset_type\"] = tab.apply(lambda x: x.Dataset.split(\" (\")[1].replace(\")\", \"\") if \"bulk\" not in x.model else \"bulk\\nRNA\", axis=1)\n",
    "tab[\"Data type\"] = tab[\"Dataset_type\"]\n",
    "\n",
    "tab[\"Method_Dataset_type\"] = tab.apply(lambda x: f\"{x.Method}_{x.Dataset_type}\", axis=1)\n",
    "tab[\"Dataset_type_Method\"] = tab.apply(lambda x: f\"{x.Dataset_type}_{x.Method}\", axis=1)\n",
    "\n",
    "tab.top_n = tab.top_n.astype(\"category\")\n",
    "g = (p9.ggplot(tab, p9.aes(\"top_n\", \"pearson_median\", color=\"Method\"))\n",
    " + p9.geom_line(p9.aes(color=\"Method\", group=\"Method_Dataset_type\", linetype=\"Data type\"), \n",
    "                position=p9.position_dodge(width=position_dodge_width))\n",
    " + p9.geom_point(p9.aes(group=\"Method_Dataset_type\", color=\"Method\"), position=p9.position_dodge(width=position_dodge_width), size=0.7) \n",
    " + p9.facet_wrap(\"~Dataset_name\", scales=\"free_y\", ncol=2)\n",
    " + p9.geom_errorbar(p9.aes(x=\"top_n\", ymin=\"pearson_median-pearson_std\",\n",
    "                           ymax=\"pearson_median+pearson_std\", color=\"Method\", group=\"Method_Dataset_type\"), \n",
    "                    width=0.4, alpha=1, size=0.5,\n",
    "                    position=p9.position_dodge(width=position_dodge_width))\n",
    " + p9.theme_bw()\n",
    " + p9.theme(panel_spacing_y=0, panel_spacing_x=0, figure_size=(10, 4), \n",
    "            #axis_text_x = p9.element_blank(), \n",
    "            legend_position=\"right\",\n",
    "            text=p9.element_text(size=17),\n",
    "            strip_text=p9.element_text(size=17),\n",
    "            legend_title=p9.element_text(size=17),\n",
    "            legend_text=p9.element_text(size=16))\n",
    " + p9.ylab(\"Pearson correlation\")\n",
    " + p9.xlab(\"Most variable genes\")\n",
    " + p9.theme(axis_text_x = p9.element_text(angle = 90, hjust = 1))\n",
    " + scale_color_prism(palette = \"colors\")\n",
    " + p9.guides(color=p9.guide_legend(nrow=10, override_aes = p9.aes(shape = \".\")))\n",
    " #+ p9.scale_y_continuous(breaks=list(np.arange(int(tab['auc_median'].min()), int(tab['auc_median'].max())+1, 0.1)))\n",
    ")\n",
    "g.save(\"figures/Figure6B-TCGA_benchmark_linetype.png\", dpi=300)\n",
    "g"
   ]
  },
  {
   "cell_type": "code",
   "execution_count": null,
   "id": "95579ff1-a845-460d-a36b-055db66fc218",
   "metadata": {},
   "outputs": [],
   "source": []
  }
 ],
 "metadata": {
  "kernelspec": {
   "display_name": "nonchev",
   "language": "python",
   "name": "nonchev"
  },
  "language_info": {
   "codemirror_mode": {
    "name": "ipython",
    "version": 3
   },
   "file_extension": ".py",
   "mimetype": "text/x-python",
   "name": "python",
   "nbconvert_exporter": "python",
   "pygments_lexer": "ipython3",
   "version": "3.9.18"
  }
 },
 "nbformat": 4,
 "nbformat_minor": 5
}
