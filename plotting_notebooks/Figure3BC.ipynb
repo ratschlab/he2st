{
 "cells": [
  {
   "cell_type": "code",
   "execution_count": null,
   "id": "33679222-7fdf-42a0-bc7b-51a3221034ea",
   "metadata": {},
   "outputs": [],
   "source": [
    "import pandas as pd\n",
    "import numpy as np\n",
    "import plotnine as p9\n",
    "import glob\n",
    "import yaml\n",
    "from tqdm import tqdm\n",
    "import scanpy as sc\n",
    "import squidpy as sq\n",
    "import anndata as ad\n",
    "import glob"
   ]
  },
  {
   "cell_type": "code",
   "execution_count": null,
   "id": "181f17f7-0c68-4b7d-9459-abf80f88f12b",
   "metadata": {},
   "outputs": [],
   "source": [
    "dataset = \"10x_TuPro\""
   ]
  },
  {
   "cell_type": "code",
   "execution_count": null,
   "id": "d8780c50-a5b2-4956-9a8f-1b29407cfbde",
   "metadata": {},
   "outputs": [],
   "source": [
    "out_folder = \"out_benchmark\"\n",
    "genes = pd.read_csv(f\"../{dataset}/out_benchmark/info_highly_variable_genes.csv\")\n",
    "selected_genes_bool = genes.isPredicted.values\n",
    "genes_to_predict = genes[selected_genes_bool]\n",
    "genes_to_predict"
   ]
  },
  {
   "cell_type": "code",
   "execution_count": null,
   "id": "6fa6ae4c-d02f-4b49-92d3-fd2fd4ada37b",
   "metadata": {},
   "outputs": [],
   "source": [
    "with open(f\"../{dataset}/config_dataset.yaml\", \"r\") as stream:\n",
    "    DATASET_INFO = yaml.safe_load(stream)\n",
    "models = DATASET_INFO[\"MODEL\"]\n",
    "all_samples = DATASET_INFO[\"SAMPLE\"]\n",
    "all_samples"
   ]
  },
  {
   "cell_type": "code",
   "execution_count": null,
   "id": "6b6688a4-82b6-45b2-adc3-6d306214ebe5",
   "metadata": {},
   "outputs": [],
   "source": [
    "sample = \"MELIPIT-1-1\""
   ]
  },
  {
   "cell_type": "code",
   "execution_count": null,
   "id": "6c1ce0d9-7a78-4e4e-80af-9c3f64402be1",
   "metadata": {},
   "outputs": [],
   "source": [
    "adata_pred_list = {s:{} for s in all_samples}\n",
    "adata_true_list = {}\n",
    "\n",
    "for sample in [sample]:#tqdm(all_samples):\n",
    "    adata_true = sc.read_h5ad(f\"../{dataset}/out_benchmark/data/h5ad/{sample}.h5ad\")\n",
    "    sc.pp.normalize_total(adata_true)\n",
    "    sc.pp.log1p(adata_true)\n",
    "    adata_true = adata_true[:,adata_true.var.index.isin(genes_to_predict.gene_name)]\n",
    "    \n",
    "    adata_true.var[\"method\"] = \"Visium, 10x Genomics\"\n",
    "    adata_true.obs[\"method\"] = \"Visium, 10x Genomics\"\n",
    "    adata_true.obs[\"sample_id\"] = sample\n",
    "    adata_true_list[sample] = adata_true\n",
    "    for model in models:\n",
    "        #try:\n",
    "            #adata_pred = sc.read_h5ad(f\"../{dataset}/out_benchmark/prediction/{model}/data/h5ad/{sample}.h5ad\")\n",
    "            top_model = pd.read_csv(f\"../{dataset}/out_benchmark/evaluation/{model}/top_model_per_test_sample.csv\")\n",
    "            row = top_model[top_model.test_sample.apply(lambda x: sum([s == sample for s in x.split(\"_\")]) == 1)].iloc[0]\n",
    "            path = f\"../{dataset}/out_benchmark/evaluation/{row.test_sample}/*/{model}/prediction/{row.model}_test.pkl\"\n",
    "            path = path.replace('[', '+-+').replace(']', '-+-')\n",
    "            path = path.replace('+-+', '[[]').replace('-+-', '[]]')    \n",
    "            expression_predicted_file = glob.glob(path)[0]\n",
    "            expression_predicted = pd.read_pickle(expression_predicted_file)\n",
    "            idx = expression_predicted.index.to_series().apply(lambda x: x.split(\"_\")[1]).isin([sample]).values\n",
    "            expression_predicted = expression_predicted.iloc[idx]\n",
    "            \n",
    "\n",
    "            expression_predicted.index = expression_predicted.index.to_series().apply(lambda x: x.split(\"_\")[0])\n",
    "            expression_predicted = expression_predicted.loc[adata_true.obs.index]\n",
    "            expression_predicted = expression_predicted[adata_true.var.index]\n",
    "            adata_pred = adata_true.copy()\n",
    "            adata_pred.X = expression_predicted.values\n",
    "            #adata_pred.X = np.exp(adata_pred.X)\n",
    "            adata_pred.X[adata_pred.X < 0] = 0\n",
    "            #adata_pred.X = adata_pred.X\n",
    "            \n",
    "            adata_pred.obs[\"method\"] = model\n",
    "            adata_pred.obs[\"sample_id\"] = sample\n",
    "            adata_pred.var[\"method\"] = model\n",
    "            adata_pred_list[sample][model] = adata_pred\n",
    "        #except:\n",
    "        #    print(f\"Not generated for: {sample}, {model}\")\n",
    "    #adata_pred.var.index = [f\"{i}_predicted\" for i in adata_pred.var.index]\n",
    "    "
   ]
  },
  {
   "cell_type": "code",
   "execution_count": null,
   "id": "47b6f1bf-1b2e-443e-bbfb-1b0b6bf05019",
   "metadata": {},
   "outputs": [],
   "source": [
    "adata = ad.concat((adata_pred_list[sample]), axis=1, merge=\"first\", uns_merge=\"first\")\n",
    "adata = ad.concat((adata, adata_true_list[sample]), axis=1, merge=\"first\", uns_merge=\"first\")\n",
    "adata.var.index = [f\"{row.name} {row.method}\" for _, row in adata.var.iterrows()]"
   ]
  },
  {
   "cell_type": "code",
   "execution_count": null,
   "id": "35f94255-9736-4b77-b24a-eb1a01c859f3",
   "metadata": {},
   "outputs": [],
   "source": [
    "adata.obs[\"ground_truth\"].unique()"
   ]
  },
  {
   "cell_type": "code",
   "execution_count": null,
   "id": "e6a1bd24-ab06-4c93-99c0-edadc2c4d18b",
   "metadata": {},
   "outputs": [],
   "source": [
    "translate = {\n",
    "    'Tumor': 'Tumor', \n",
    "    'Stroma': 'Stroma', \n",
    "    'Normal lymphoid tissue': 'Normal\\nlymphoid', \n",
    "    'Blood and necrosis': 'Blood/\\nnecrosis',\n",
    "    'Pigment': np.nan # ignore label\n",
    "}"
   ]
  },
  {
   "cell_type": "code",
   "execution_count": null,
   "id": "6a6efa47-d3b6-46aa-863e-14f5cfb48684",
   "metadata": {},
   "outputs": [],
   "source": [
    "import matplotlib.pyplot as plt\n",
    "plt.rcParams.update({'font.size': 20})\n",
    "\n",
    "pad = -10\n",
    "bounds = (adata.obsm[\"spatial\"][:, 0].min() - pad * 1,\n",
    "              adata.obsm[\"spatial\"][:, 1].min() - pad * 10,\n",
    "              adata.obsm[\"spatial\"][:, 0].max() + pad * 1,\n",
    "              adata.obsm[\"spatial\"][:, 1].max() + pad* 10)\n",
    "\n",
    "\n",
    "adata.obs[\"H&E image\"] = np.nan\n",
    "adata.obs[\"Pathology annotation\"] = adata.obs[\"ground_truth\"].apply(lambda x: translate[x])\n",
    "\n",
    "\n",
    "sq.pl.spatial_scatter(adata, \n",
    "                      img_alpha=0.9, \n",
    "                      crop_coord=bounds, \n",
    "                      wspace=0, \n",
    "                      hspace=0.1,\n",
    "                      color=[\"H&E image\", \"Pathology annotation\"], \n",
    "                      size=15,      \n",
    "                      ncols=1, \n",
    "                      cmap=\"viridis\",\n",
    "                      #title=title, \n",
    "                      save=f\"figures/Figure3B-{sample}_h&e_anno.png\", \n",
    "                      dpi=300,\n",
    "                      frameon=False, \n",
    "                      colorbar=False, \n",
    "                      #legend_loc=\"lower left\",\n",
    "                      legend_fontsize=15,\n",
    "                      figsize=(7, 5))"
   ]
  },
  {
   "cell_type": "code",
   "execution_count": null,
   "id": "b3016f8b-037b-4462-8a59-c64cf150fd89",
   "metadata": {},
   "outputs": [],
   "source": [
    "def significance_level(p_value):\n",
    "    if p_value < 0.001:\n",
    "        return '***'  # highly significant\n",
    "    elif p_value < 0.01:\n",
    "        return '**'   # significant\n",
    "    elif p_value < 0.05:\n",
    "        return '*'    # marginally significant\n",
    "    else:\n",
    "        return 'ns'   # not significant"
   ]
  },
  {
   "cell_type": "code",
   "execution_count": null,
   "id": "244bb72e-f3e1-4167-a789-0448548e50d2",
   "metadata": {},
   "outputs": [],
   "source": [
    "from scipy.stats import pearsonr\n",
    "\n",
    "genes = adata.var.index.to_series().apply(lambda x: x.split(\" \")[0]).unique()\n",
    "genes = genes[np.isin(genes, genes_to_predict[genes_to_predict.variances_norm_rank < 50].gene_name)]\n",
    "corr_score = {m:{} for m in models}\n",
    "\n",
    "\n",
    "for gene in tqdm([\"SOX10\"]):\n",
    "\n",
    "    gene_expr_visium = adata[:, adata.var.index == f'{gene} Visium, 10x Genomics'].X.squeeze()\n",
    "    \n",
    "    for model in models:\n",
    "        try:\n",
    "            gene_expr_model = adata[:, adata.var.index == f'{gene} {model}'].X.squeeze()\n",
    "    \n",
    "            res = pearsonr(gene_expr_model, gene_expr_visium)\n",
    "            corr_score[model][gene] = {}\n",
    "            corr_score[model][gene][\"r\"] = res.statistic\n",
    "            corr_score[model][gene][\"p\"] = significance_level(res.pvalue)\n",
    "        except:\n",
    "            pass"
   ]
  },
  {
   "cell_type": "code",
   "execution_count": null,
   "id": "0132aeb3-e9e4-4651-b157-839056b2cf05",
   "metadata": {},
   "outputs": [],
   "source": [
    "corr_score"
   ]
  },
  {
   "cell_type": "code",
   "execution_count": null,
   "id": "8fca0da1-523c-466a-86ba-155e574d33eb",
   "metadata": {},
   "outputs": [],
   "source": [
    "# SLC6A15', 'BSG', 'CAPN3', 'TBC1D4', 'MYC', 'COL11A2', 'JCHAIN',\n",
    "#       'CD74', 'PACSIN3', 'C1R', 'HLA-DPA1', 'HSP90AA1', 'APOD', 'MAFB',\n",
    "#       'IRF8', 'SELENOM', 'WIPF1', 'MAMDC2', 'SEL1L3', 'JUNB', 'CD53',\n",
    "#       'RHOBTB3', 'C1QA', 'GPRC5B', 'MPEG1', 'RAC2', 'GYPC', 'CDH11',\n",
    "#       'C1QC', 'STRADB', 'BIRC7', 'C1S', 'MIF', 'TAGLN', 'XBP1'\n",
    "#np.array(list(corr_score[\"DeepSpot\"].keys()))[np.argsort(-np.array(list(corr_score[\"DeepSpot\"].values())))][:100]"
   ]
  },
  {
   "cell_type": "code",
   "execution_count": null,
   "id": "07ba78fc-19ba-45be-9e2c-326d04a9a410",
   "metadata": {},
   "outputs": [],
   "source": [
    "adata"
   ]
  },
  {
   "cell_type": "code",
   "execution_count": null,
   "id": "8ff99919-2497-4ed5-bb1d-34865bc3b77e",
   "metadata": {},
   "outputs": [],
   "source": [
    "import matplotlib.pyplot as plt\n",
    "plt.rcParams.update({'font.size': 18})\n",
    "\n",
    "pad = -10\n",
    "\n",
    "gene = \"SOX10\"\n",
    "\n",
    "bounds = (adata.obsm[\"spatial\"][:, 0].min() - pad * 1,\n",
    "              adata.obsm[\"spatial\"][:, 1].min() - pad * 10,\n",
    "              adata.obsm[\"spatial\"][:, 0].max() + pad * 1,\n",
    "              adata.obsm[\"spatial\"][:, 1].max() + pad* 10)\n",
    "\n",
    "color = [f\"{gene} {m}\" for m in ['Visium, 10x Genomics',\n",
    "                                 \"BLEEP\",\n",
    "                                 'STNet',\n",
    "                                 'MLP',\n",
    "                                 \"LinearRegression\",\n",
    "                                 \"DeepSpot\"]]\n",
    "\n",
    "\n",
    "title = [f\"{c}\\nPearson r={corr_score[c.split(' ')[1]][gene]['r']:.2f}{corr_score[c.split(' ')[1]][gene]['p']}\" if c.split(' ')[1] in models else c for c in color]"
   ]
  },
  {
   "cell_type": "code",
   "execution_count": null,
   "id": "fba03f33-9100-4ec7-bcbf-806a9a52c974",
   "metadata": {},
   "outputs": [],
   "source": [
    "sq.pl.spatial_scatter(adata, \n",
    "                      img_alpha=0.9, \n",
    "                      crop_coord=bounds, \n",
    "                      wspace=0.1, \n",
    "                      hspace=0.12,\n",
    "                      color=color, \n",
    "                      title=title,\n",
    "                      size=15,      \n",
    "                      ncols=3, \n",
    "                      cmap=\"viridis\",\n",
    "                      #title=title, \n",
    "                      #save=f\"figures/Figure3C-{sample}_{gene}.png\", \n",
    "                      dpi=300,\n",
    "                      frameon=False, \n",
    "                      colorbar=1, \n",
    "                      legend_loc=\"lower left\",\n",
    "                      figsize=(6, 6))"
   ]
  },
  {
   "cell_type": "code",
   "execution_count": null,
   "id": "575adb97-d97d-4e4d-acd8-b7954b0312e2",
   "metadata": {},
   "outputs": [],
   "source": []
  },
  {
   "cell_type": "code",
   "execution_count": null,
   "id": "9a938f08-03e1-4c1c-b618-4911bed4125c",
   "metadata": {},
   "outputs": [],
   "source": []
  },
  {
   "cell_type": "code",
   "execution_count": null,
   "id": "4bb8e1bc-ca22-4406-aae2-025653a9fac0",
   "metadata": {},
   "outputs": [],
   "source": []
  }
 ],
 "metadata": {
  "kernelspec": {
   "display_name": "nonchev",
   "language": "python",
   "name": "nonchev"
  },
  "language_info": {
   "codemirror_mode": {
    "name": "ipython",
    "version": 3
   },
   "file_extension": ".py",
   "mimetype": "text/x-python",
   "name": "python",
   "nbconvert_exporter": "python",
   "pygments_lexer": "ipython3",
   "version": "3.9.18"
  }
 },
 "nbformat": 4,
 "nbformat_minor": 5
}
