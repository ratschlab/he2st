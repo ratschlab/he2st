{
 "cells": [
  {
   "cell_type": "code",
   "execution_count": null,
   "id": "573bdbaf-682a-4da9-964c-19b5429d5ea0",
   "metadata": {},
   "outputs": [],
   "source": [
    "import glob\n",
    "import numpy as np\n",
    "import scanpy as sq\n",
    "import pandas as pd\n",
    "import matplotlib.pyplot as plt\n",
    "from tqdm import tqdm\n",
    "from concurrent.futures import ProcessPoolExecutor, as_completed\n",
    "import scanpy as sc\n",
    "from tqdm import tqdm\n",
    "import yaml"
   ]
  },
  {
   "cell_type": "code",
   "execution_count": null,
   "id": "c7a30a3a-bae1-4576-b4d4-71f94e03abff",
   "metadata": {},
   "outputs": [],
   "source": [
    "with open(\"../config.yaml\", \"r\") as stream:\n",
    "    DATASET_INFO = yaml.safe_load(stream)\n",
    "DATASET_INFO"
   ]
  },
  {
   "cell_type": "code",
   "execution_count": null,
   "id": "1949412c-66b6-46c1-a657-fa97ce748e39",
   "metadata": {},
   "outputs": [],
   "source": [
    "# Function to read a file and return the number of spots\n",
    "def get_n_spots(file):\n",
    "    \n",
    "    adata = sc.read_h5ad(file, backed=\"r\")\n",
    "    if \"bulk_norm_tpm_unstranded\" in adata.var.columns:\n",
    "        observed_bulk = adata.var.bulk_tpm_unstranded\n",
    "    else:\n",
    "        observed_bulk = []\n",
    "    n = len(adata)\n",
    "        \n",
    "    \n",
    "    return n, observed_bulk"
   ]
  },
  {
   "cell_type": "code",
   "execution_count": null,
   "id": "dafb11e9-f10b-4c3e-b601-7b7c42379c8c",
   "metadata": {},
   "outputs": [],
   "source": [
    "import torch\n",
    "num_workers = torch.get_num_threads()\n",
    "num_workers"
   ]
  },
  {
   "cell_type": "code",
   "execution_count": null,
   "id": "40ab5875-c8b2-460f-97e2-b54ca455540c",
   "metadata": {},
   "outputs": [],
   "source": [
    "datasets = DATASET_INFO[\"DATASET_NAME\"].keys()\n",
    "datasets"
   ]
  },
  {
   "cell_type": "code",
   "execution_count": null,
   "id": "25e5d626-a8f7-4198-88e6-cc23970eb496",
   "metadata": {},
   "outputs": [],
   "source": [
    "data = []\n",
    "for dataset in datasets:\n",
    "    if \"TCGA\" in dataset:\n",
    "        slide_type = dataset.split(\"_\")[-1]\n",
    "        dataset_name = dataset.replace(f\"_{slide_type}\", \"\")\n",
    "        print(dataset_name, slide_type)\n",
    "        metadata = pd.read_csv(f\"../{dataset_name}/data/metadata_{slide_type}.csv\")\n",
    "        metadata = metadata[~metadata.image_path.duplicated()]\n",
    "        metadata = metadata.set_index(\"id_pair\")\n",
    "        files = glob.glob(f'../{dataset_name}/out_benchmark_{slide_type}/data/h5ad/*.h5ad')\n",
    "        files = np.array(files)\n",
    "        files = files[np.array([int(i.split(\"/\")[-1].split(\".\")[0]) in metadata.index for i in files])]\n",
    "\n",
    "    else:\n",
    "        files = glob.glob(f'../{dataset}/out_benchmark/data/h5ad/*.h5ad')\n",
    "    files = [f for f in files if \"all\" not in f]\n",
    "    observed_bulk = []\n",
    "    n_spots_per_sample = []\n",
    "    \n",
    "    # Using ProcessPoolExecutor to parallelize the processing\n",
    "    with ProcessPoolExecutor(max_workers=num_workers) as executor:\n",
    "        # Submit all file processing tasks\n",
    "        \n",
    "        futures = [executor.submit(get_n_spots, f) for f in files]\n",
    "    \n",
    "        # Collect results as they complete\n",
    "        for future in tqdm(as_completed(futures), total=len(files)):\n",
    "            n, bulk = future.result()\n",
    "            n_spots_per_sample.append(n)\n",
    "            observed_bulk.append(bulk)\n",
    "\n",
    "        n_spots_per_sample_df = pd.DataFrame(n_spots_per_sample, columns=[\"spots_per_sample\"])\n",
    "        n_spots_per_sample_df['dataset'] = dataset\n",
    "\n",
    "    data.append([dataset, len(files), np.nansum(n_spots_per_sample)])\n",
    "data = pd.DataFrame(data, columns=[\"dataset\", 'samples', 'spots'])\n",
    "data"
   ]
  },
  {
   "cell_type": "code",
   "execution_count": null,
   "id": "db2e663a-2ab2-4312-b440-e59b3a568b54",
   "metadata": {},
   "outputs": [],
   "source": [
    "data[\"data_type\"] = data.dataset.apply(lambda x: \"Digital ST\" if \"TCGA\" in x else \"Visium,\\n10x Genomics\")\n",
    "data"
   ]
  },
  {
   "cell_type": "code",
   "execution_count": null,
   "id": "4c2f1910-64d1-427b-92a9-9b339373b203",
   "metadata": {},
   "outputs": [],
   "source": [
    "data.query(\"data_type == 'Digital ST'\")[\"spots\"].sum()"
   ]
  },
  {
   "cell_type": "code",
   "execution_count": null,
   "id": "eb091b06-0dd6-47cb-9413-2f899931c704",
   "metadata": {},
   "outputs": [],
   "source": [
    "data.query(\"data_type == 'Digital ST'\")[\"samples\"].sum()"
   ]
  },
  {
   "cell_type": "code",
   "execution_count": null,
   "id": "218efa26-5f2b-497b-970b-7494ed264bc4",
   "metadata": {},
   "outputs": [],
   "source": [
    "DATASET_INFO['DATASET_NAME']"
   ]
  },
  {
   "cell_type": "code",
   "execution_count": null,
   "id": "eb52efdd-c3a3-4381-8442-dc88d5e99e97",
   "metadata": {},
   "outputs": [],
   "source": [
    "import matplotlib.pyplot as plt\n",
    "import matplotlib.patches as mpatches\n",
    "import matplotlib.pyplot as plt\n",
    "plt.rcParams.update({'font.size': 25})\n",
    "# Data\n",
    "datasets = [DATASET_INFO['DATASET_NAME'][d].split(\" (n\")[0].replace(' (F', '\\n(F') for d in data.dataset.values]\n",
    "samples = data.samples.values\n",
    "spots = data.spots.values\n",
    "data_type = data.data_type.values\n",
    "\n",
    "# Define colors for different data types\n",
    "color_map = {\n",
    "    'Visium,\\n10x Genomics': 'lightblue',\n",
    "    'Digital ST': 'gray',\n",
    "}\n",
    "\n",
    "# Convert spots to millions for better readability\n",
    "spots_millions = [s for s in spots]\n",
    "\n",
    "# Sort by data_type first (Visium, 10x Genomics first), then by number of spots\n",
    "sorted_indices = sorted(range(len(spots)), key=lambda i: (data_type[i] != 'Visium,\\n10x Genomics', -spots[i]))\n",
    "sorted_datasets = [datasets[i] for i in sorted_indices]\n",
    "sorted_samples = [samples[i] for i in sorted_indices]\n",
    "sorted_spots_millions = [spots_millions[i] for i in sorted_indices]\n",
    "sorted_data_type = [data_type[i] for i in sorted_indices]\n",
    "\n",
    "# Assign colors based on data type\n",
    "colors = [color_map[dt] for dt in sorted_data_type]\n",
    "\n",
    "# Create a figure and axis with increased width\n",
    "fig, ax = plt.subplots(figsize=(18, 9))  # Adjust width (12) and height (6) as needed\n",
    "\n",
    "# Create bar chart with colors based on data type\n",
    "bars = ax.bar(sorted_datasets, sorted_spots_millions, color=colors)\n",
    "\n",
    "# Annotate bars with the number of samples\n",
    "for bar, sample in zip(bars, sorted_samples):\n",
    "    yval = bar.get_height()\n",
    "    ax.text(bar.get_x() + bar.get_width() / 2, yval, f'(n={sample})', \n",
    "            ha='center', va='bottom', color='blue')\n",
    "\n",
    "# Add labels and title\n",
    "ax.set_xlabel('Dataset', fontsize=30)\n",
    "ax.set_ylabel('Spots', fontsize=30)\n",
    "#ax.set_title('Number of Spots by Dataset')\n",
    "# Rotate x-axis labels 90 degrees\n",
    "plt.xticks(rotation=30)\n",
    "# Customize y-axis to show 'M' for millions\n",
    "ax.set_yscale('log')\n",
    "\n",
    "# Create custom legend\n",
    "legend_patches = [mpatches.Patch(color=color, label=label) for label, color in color_map.items()]\n",
    "ax.legend(handles=legend_patches, title=\"\")\n",
    "plt.savefig('figures/Figure6A-dataset_size.png', dpi=300, bbox_inches = 'tight')\n",
    "# Show the plot\n",
    "plt.show()"
   ]
  },
  {
   "cell_type": "code",
   "execution_count": null,
   "id": "d72a8999-ce07-4177-a2a5-0b9438874041",
   "metadata": {},
   "outputs": [],
   "source": []
  }
 ],
 "metadata": {
  "kernelspec": {
   "display_name": "nonchev",
   "language": "python",
   "name": "nonchev"
  },
  "language_info": {
   "codemirror_mode": {
    "name": "ipython",
    "version": 3
   },
   "file_extension": ".py",
   "mimetype": "text/x-python",
   "name": "python",
   "nbconvert_exporter": "python",
   "pygments_lexer": "ipython3",
   "version": "3.9.18"
  }
 },
 "nbformat": 4,
 "nbformat_minor": 5
}
