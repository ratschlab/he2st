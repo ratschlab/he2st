{
 "cells": [
  {
   "cell_type": "code",
   "execution_count": null,
   "id": "1b249f10-59fc-4415-b998-5540d248bab8",
   "metadata": {},
   "outputs": [],
   "source": [
    "import pandas as pd\n",
    "import numpy as np\n",
    "import plotnine as p9\n",
    "import glob\n",
    "import yaml\n",
    "from scipy.stats import spearmanr\n",
    "from sklearn.metrics import auc\n",
    "from tqdm import tqdm\n",
    "import plotnine as p9\n",
    "import pandas as pd\n",
    "import numpy as np\n",
    "import glob\n",
    "import yaml\n",
    "import shutil\n",
    "from plotnine_prism import *\n",
    "import sys\n",
    "sys.path.append('../')\n",
    "from src.utils import load_data\n",
    "from src.utils import bootstrapping\n",
    "from src.utils import compute_pearson_top_n\n",
    "from src.utils import compute_area_under_pearson_top_n\n",
    "from sklearn.preprocessing import MinMaxScaler\n",
    "from sklearn.preprocessing import scale\n",
    "from scipy.stats import bootstrap\n",
    "import numpy as np"
   ]
  },
  {
   "cell_type": "code",
   "execution_count": null,
   "id": "fda4612d-89fa-4eb9-924f-b8dde031c892",
   "metadata": {},
   "outputs": [],
   "source": [
    "def normalize(x_list):\n",
    "    x_scaled = scale(x_list)\n",
    "    return x_scaled\n",
    "\n",
    "\n",
    "def bootstrapping(x_list, n_resamples=1000):\n",
    "    res = bootstrap((x_list,), np.median, n_resamples=n_resamples)\n",
    "    standard_error = res.standard_error\n",
    "    median = np.median(res.bootstrap_distribution)\n",
    "    return [median, standard_error]\n",
    "\n",
    "def transform_num(x):\n",
    "    value = x.model.split(\"_\")[-1]\n",
    "    \n",
    "    hparam = x.hparam\n",
    "    \n",
    "    if value.isnumeric():\n",
    "        value = int(value)\n",
    "    elif \".\" in value:\n",
    "        value = float(value)\n",
    "    else:\n",
    "        pass\n",
    "    \n",
    "    return value\n",
    "out_folder = \"out_ablation\""
   ]
  },
  {
   "cell_type": "code",
   "execution_count": null,
   "id": "897643c7-da14-49cd-99fe-f7279e24eae1",
   "metadata": {},
   "outputs": [],
   "source": [
    "with open(\"../config.yaml\", \"r\") as stream:\n",
    "    DATASET_INFO = yaml.safe_load(stream)\n",
    "DATASET_INFO"
   ]
  },
  {
   "cell_type": "code",
   "execution_count": null,
   "id": "11c93351-c0d0-4d17-831f-bfee9042e372",
   "metadata": {},
   "outputs": [],
   "source": [
    "with open(f\"../10x_TuPro/config_dataset_a.yaml\", \"r\") as stream:\n",
    "        config_dataset = yaml.safe_load(stream)\n",
    "\n",
    "models = config_dataset[\"MODEL\"]\n",
    "models"
   ]
  },
  {
   "cell_type": "code",
   "execution_count": null,
   "id": "af0697a4-7d15-4cfb-a3d7-f7656fd5a163",
   "metadata": {},
   "outputs": [],
   "source": [
    "datasets = [\"USZ\", \"COAD\", \"10x_TuPro\", \"SCCRCC\"] #  \"10x_TuPro\",  \"SCCRCC\"\n",
    "datasets"
   ]
  },
  {
   "cell_type": "code",
   "execution_count": null,
   "id": "7ad1a45f-c377-44b6-a71d-290d72e87ae1",
   "metadata": {},
   "outputs": [],
   "source": [
    "all_scores = []\n",
    "for dataset in tqdm(datasets):\n",
    "    \n",
    "    genes = pd.read_csv(f\"../{dataset}/{out_folder}/info_highly_variable_genes.csv\")\n",
    "    selected_genes_bool = genes.isPredicted.values\n",
    "    genes_predict = genes[selected_genes_bool]\n",
    "    scores = []\n",
    "    for model in models:\n",
    "    \n",
    "        top_model = pd.read_csv(f\"../{dataset}/{out_folder}/evaluation/{model}/top_model_per_test_sample.csv\")\n",
    "        model_dict = top_model[[\"test_sample\", \"model\"]].set_index(\"test_sample\").to_dict()['model']\n",
    "    \n",
    "        \n",
    "        for test in model_dict.keys():\n",
    "        \n",
    "            file = f\"../{dataset}/{out_folder}/evaluation/{test}/gene_scores/test/{model}/{model_dict[test]}.csv\"\n",
    "            score = pd.read_csv(file)\n",
    "            score = score.set_index(\"index\")\n",
    "            score.columns = [\"spearman\"]\n",
    "            score[\"test_sample\"] = test\n",
    "            score[\"model\"] = model\n",
    "            scores.append(score)\n",
    "    \n",
    "    \n",
    "    scores = pd.concat(scores)\n",
    "    scores[\"gene\"] = scores.index\n",
    "    scores = scores.reset_index(drop=True)\n",
    "    scores = compute_pearson_top_n(scores, \"model\", genes_predict)\n",
    "    scores[\"dataset\"] = dataset\n",
    "    all_scores.append(scores)\n",
    "\n",
    "all_scores = pd.concat(all_scores)\n",
    "all_scores = all_scores.groupby([\"gene\", \"model\", \"top_n\", \"dataset\"]).spearman.agg(\"mean\").reset_index()\n",
    "all_scores"
   ]
  },
  {
   "cell_type": "code",
   "execution_count": null,
   "id": "8458138c-39f6-4323-a2c3-c856836ef849",
   "metadata": {},
   "outputs": [],
   "source": [
    "all_scores[\"hparam\"] = all_scores.model.apply(lambda x: \"\\n\".join(x.split(\"_\")[1:-1]) if len(x.split(\"_\")) > 1 else x)\n",
    "all_scores[\"hparam_values\"] = all_scores.model.apply(lambda x: int(x.split(\"_\")[-1]) if x.split(\"_\")[-1].isnumeric() or x.split(\"_\")[-1] == \"-1\" else \"full\" if len(x.split(\"_\")) == 1 else x.split(\"_\")[-1])\n",
    "tab = all_scores.copy()\n",
    "tab"
   ]
  },
  {
   "cell_type": "code",
   "execution_count": null,
   "id": "c8a1d3c1-3783-4948-a3ee-59cd59ee721b",
   "metadata": {},
   "outputs": [],
   "source": [
    "auc_scores = []\n",
    "for dataset in tab.dataset.unique():\n",
    "    t = tab.query(f'dataset == \"{dataset}\"')\n",
    "    res = compute_area_under_pearson_top_n(t, \"model\", \"spearman\")\n",
    "    res['dataset'] = dataset\n",
    "    auc_scores.append(res)\n",
    "tab = pd.concat(auc_scores)\n",
    "tab"
   ]
  },
  {
   "cell_type": "code",
   "execution_count": null,
   "id": "1b8c0af3-82ab-455b-bcf4-8aacaf720e4b",
   "metadata": {},
   "outputs": [],
   "source": [
    "from scipy.stats import gmean\n",
    "tab[\"hparam\"] = tab.model.apply(lambda x: \" \".join(x.split(\"_\")[1:-1]) if len(x.split(\"_\")) > 1 else x)\n",
    "tab[\"hparam_values\"] = tab.apply(lambda x: transform_num(x), axis=1)\n",
    "#tab[\"auc_mean\"] = tab.groupby([\"hparam\", \"dataset\"]).auc_mean.transform(lambda x: normalize(x))\n",
    "#tab[\"auc_std\"] = tab.groupby([\"hparam\", \"dataset\"]).auc_std.transform(lambda x: x - gmean(x))\n",
    "tab.head()"
   ]
  },
  {
   "cell_type": "code",
   "execution_count": null,
   "id": "846c4e81-fccd-4174-ba27-df7e0689e375",
   "metadata": {},
   "outputs": [],
   "source": [
    "tab.hparam_values.unique()"
   ]
  },
  {
   "cell_type": "code",
   "execution_count": null,
   "id": "ebd7833b-685f-4978-bc17-0092c163f96f",
   "metadata": {},
   "outputs": [],
   "source": [
    "tab.hparam_values.unique()"
   ]
  },
  {
   "cell_type": "code",
   "execution_count": null,
   "id": "7d542d30-ab3d-4149-8717-9d706a0b376d",
   "metadata": {},
   "outputs": [],
   "source": [
    "hparam_of_int = {'context': \"Context\", \n",
    "                 'oversampling': \"Oversampling\", \n",
    "                 'genenorm': \"Normalization\",\n",
    "                 'image': 'Image model',\n",
    "                 'loss': 'Loss'\n",
    "                 }\n",
    "values_of_int = {\"off\": \"off\", \"on\": \"on\",\n",
    "                 \"no\": \"no\", 'maxabs': 'maxabs', 'robust': 'robust', 'standard': 'standard',\n",
    "                 \"default\": \"default\", \"aestetik\": \"aestetik\",\n",
    "                 \"spot\": \"spot\", \"spotsubspotneighbors1\": \"+spatial\\n1-hop neighb\", \"spotsubspotneighbors3\": \"+spatial\\n3-hop neighb\", \"spotsubspotneighbors5\": \"+spatial\\n5-hop neighb\",\n",
    "                 \"inception\": \"inception\", \"resnet50\": \"resnet\", \"phikon\": \"phikon\", \"phikonv2\": \"phikon_v2\", \"uni\": \"uni\", 'hoptimus0': 'hoptimus0',\n",
    "                 'mse': 'mse', 'pearson': 'pearson'\n",
    "                 }"
   ]
  },
  {
   "cell_type": "code",
   "execution_count": null,
   "id": "60242d69-6b07-4dc0-ab17-a3c11b314f57",
   "metadata": {},
   "outputs": [],
   "source": [
    "scace_facet = [max(0.4, dict(tab[[\"hparam\", \"hparam_values\"]].drop_duplicates().hparam.value_counts() / 8)[a]) for a in hparam_of_int if a in tab.hparam.unique()]\n",
    "scace_facet"
   ]
  },
  {
   "cell_type": "code",
   "execution_count": null,
   "id": "e0dd28ee-934f-409e-97e7-c5dee2efb1c3",
   "metadata": {},
   "outputs": [],
   "source": [
    "plot_data = tab.copy()\n",
    "plot_data = plot_data.query(\"hparam in @hparam_of_int.keys()\")\n",
    "plot_data.hparam = plot_data.hparam.apply(lambda x: hparam_of_int[x])\n",
    "plot_data.hparam_values = plot_data.hparam_values.apply(lambda x: values_of_int[x] if x in values_of_int else x)\n",
    "order = values_of_int.values()\n",
    "position_dodge_width = 0.6\n",
    "plot_data[\"Dataset\"] = plot_data.dataset.apply(lambda x: DATASET_INFO[\"DATASET_NAME\"][x])\n",
    "#plot_data.Dataset = pd.Categorical(plot_data.Dataset, DATASET_INFO[\"DATASET_NAME\"].values())\n",
    "plot_data.hparam = plot_data.hparam.astype(str)\n",
    "plot_data.hparam = pd.Categorical(plot_data.hparam.values, hparam_of_int.values()).astype(str)\n",
    "plot_data.hparam_values = pd.Categorical(plot_data.hparam_values.astype(str), order)\n",
    "\n",
    "#plot_data[\"group\"] = plot_data.top_n.astype(str) + plot_data.Dataset\n",
    "\n",
    "p = (p9.ggplot(plot_data, p9.aes(\"hparam_values\", \"auc_mean\")) \n",
    " + p9.geom_point(p9.aes(group=\"Dataset\"), \n",
    "                 size=1, \n",
    "                 position=p9.position_dodge(width=position_dodge_width))\n",
    " #+ p9.geom_line(p9.aes(color=\"Dataset\", group=\"Dataset\"), \n",
    " #               linetype=\"dashed\", \n",
    " #               position=p9.position_dodge(width=position_dodge_width))\n",
    "     #+ p9.geom_boxplot(p9.aes(color=\"Dataset\"))\n",
    " + p9.theme_bw()\n",
    "# + p9.facet_grid(\"~hparam\", scales=\"free\", space={\"x\": scace_facet, \"y\":[1]})\n",
    " + scale_color_prism(palette = \"colors\")\n",
    " + p9.ylab(\"AU Gene pearson correlation\")\n",
    " + p9.xlab(\"Hyperparameter value\")\n",
    " + p9.facet_wrap(\"~Dataset+hparam\", nrow=len(datasets), scales='free',  drop=True)\n",
    " + p9.geom_errorbar(p9.aes(x=\"hparam_values\", ymin=\"auc_mean-auc_std\",ymax=\"auc_mean+auc_std\"), \n",
    "                    width=0.1, alpha=1, size=1,\n",
    "                     position=p9.position_dodge(width=position_dodge_width)\n",
    "                   )\n",
    " + p9.theme(panel_spacing_y=-0.06, \n",
    "            panel_spacing_x=0, \n",
    "            figure_size=(32, 20), \n",
    "            axis_text_x = p9.element_text(angle = 90),\n",
    "            text=p9.element_text(size=20),\n",
    "            strip_text=p9.element_text(size=20),\n",
    "            legend_title=p9.element_text(size=20),\n",
    "            legend_text=p9.element_text(size=20))\n",
    ")\n",
    "p.save(\"figures/FigureS1-ablation.png\", dpi=300,limitsize=False)\n",
    "p"
   ]
  },
  {
   "cell_type": "code",
   "execution_count": null,
   "id": "22f9c7b7-8f3b-4fd2-9519-b34673d91048",
   "metadata": {},
   "outputs": [],
   "source": [
    "1"
   ]
  },
  {
   "cell_type": "code",
   "execution_count": null,
   "id": "c154af72-ca5c-441e-8116-06be41c3d27d",
   "metadata": {},
   "outputs": [],
   "source": []
  }
 ],
 "metadata": {
  "kernelspec": {
   "display_name": "nonchev",
   "language": "python",
   "name": "nonchev"
  },
  "language_info": {
   "codemirror_mode": {
    "name": "ipython",
    "version": 3
   },
   "file_extension": ".py",
   "mimetype": "text/x-python",
   "name": "python",
   "nbconvert_exporter": "python",
   "pygments_lexer": "ipython3",
   "version": "3.9.18"
  }
 },
 "nbformat": 4,
 "nbformat_minor": 5
}
