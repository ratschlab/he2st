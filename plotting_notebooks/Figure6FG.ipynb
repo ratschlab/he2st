{
 "cells": [
  {
   "cell_type": "code",
   "execution_count": null,
   "id": "fbd57056-d6d5-4e5b-b12a-72b21ae14b9b",
   "metadata": {},
   "outputs": [],
   "source": [
    "import pyvips\n",
    "import pandas as pd\n",
    "import numpy as np\n",
    "import pandas as pd\n",
    "import plotnine as p9\n",
    "import scanpy as sc\n",
    "import glob\n",
    "import json\n",
    "from plotnine_prism import *\n",
    "from tqdm import tqdm\n",
    "import yaml\n",
    "import squidpy as sq\n",
    "from sklearn.neighbors import RadiusNeighborsClassifier\n",
    "from sklearn.preprocessing import StandardScaler\n",
    "from sklearn.model_selection import KFold\n",
    "from sklearn.pipeline import Pipeline\n",
    "import sys \n",
    "import anndata as ad\n",
    "sys.path.append(\"../\")\n",
    "from src.preprocess_utils.preprocess_image import crop_tile\n",
    "from sklearn.linear_model import LogisticRegression\n",
    "from sklearn.metrics import roc_auc_score\n",
    "from sklearn.metrics import precision_recall_curve\n",
    "from sklearn.metrics import precision_recall_curve, auc\n",
    "from sklearn.model_selection import train_test_split\n",
    "from sklearn.preprocessing import StandardScaler\n",
    "from sklearn.linear_model import LogisticRegression\n",
    "from sklearn.pipeline import Pipeline"
   ]
  },
  {
   "cell_type": "code",
   "execution_count": null,
   "id": "61979daf-45ce-4b73-baa4-8436a777f70b",
   "metadata": {},
   "outputs": [],
   "source": [
    "files = glob.glob(\"../TCGA_KIRC/data/kidney_tls_anno/*.json\")\n",
    "len(files)"
   ]
  },
  {
   "cell_type": "code",
   "execution_count": null,
   "id": "8bd775e4-8e47-4287-aa1d-de2d4c8c2063",
   "metadata": {},
   "outputs": [],
   "source": [
    "data = []\n",
    "for path in tqdm(files):\n",
    "    with open(path, 'r') as file:\n",
    "        anno = json.load(file)\n",
    "    if len(anno) > 0:\n",
    "\n",
    "        for row in anno:\n",
    "            if 'classification' in row['properties']:\n",
    "                label = row['properties']['classification']['name']\n",
    "                #if \"TLS\" not in label:\n",
    "                #    continue\n",
    "                for i in row['geometry']['coordinates']:\n",
    "                    if row['geometry']['type'] == \"Polygon\":\n",
    "                        coord = pd.DataFrame(i, columns=[\"x\", \"y\"])\n",
    "                        coord['label'] = label#\"TLS\" if \"TLS\" in label else label\n",
    "                        coord[\"file_id\"] = path.split(\"/\")[-1].replace(\".json\", \"\")\n",
    "                        data.append(coord)\n",
    "                    else:\n",
    "                        for j in i:\n",
    "                        \n",
    "                            coord = pd.DataFrame(np.array(i[0]), columns=[\"x\", \"y\"])\n",
    "                            coord['label'] = label\n",
    "                            coord[\"file_id\"] = path.split(\"/\")[-1].replace(\".json\", \"\")\n",
    "                            data.append(coord)\n",
    "data = pd.concat(data)\n",
    "data.label.value_counts()"
   ]
  },
  {
   "cell_type": "code",
   "execution_count": null,
   "id": "a53198fc-980b-4964-8ce4-2599c7fb5526",
   "metadata": {},
   "outputs": [],
   "source": [
    "data[\"tile_label\"] = data.label.apply(lambda x: x.split(\" (\")[0])\n",
    "data[\"tile_label\"] = data[\"tile_label\"].apply(lambda x: x if x != \"NT\" else \"Normal\")\n",
    "data = data[data[\"tile_label\"].isin([\"TLS\", \"Normal\"])]\n",
    "data.tile_label.value_counts()"
   ]
  },
  {
   "cell_type": "code",
   "execution_count": null,
   "id": "0d775b93-0bf8-4480-9428-db3e475563e7",
   "metadata": {},
   "outputs": [],
   "source": [
    "sampleids = data[[\"file_id\", \"label\"]].value_counts().reset_index().file_id.value_counts()\n",
    "sampleids = sampleids[sampleids == 2]\n",
    "sampleids.index[20:30]"
   ]
  },
  {
   "cell_type": "code",
   "execution_count": null,
   "id": "a9816352-9dbd-411f-8412-72fca5840a05",
   "metadata": {},
   "outputs": [],
   "source": [
    "# Combine the groups into a list for easier iteration \n",
    "idx = np.arange(0, 9)\n",
    "data = data.sample(frac=1)\n",
    "sample_id = 58\n",
    "sample_idx = (data.file_id == sampleids.index[sample_id]).values\n",
    "group = data[sample_idx].query(\"tile_label == 'Normal'\").iloc[idx]"
   ]
  },
  {
   "cell_type": "code",
   "execution_count": null,
   "id": "5b1aae55-835f-470f-9eb9-71c744e377f1",
   "metadata": {},
   "outputs": [],
   "source": [
    "import matplotlib.pyplot as plt\n",
    "import glob\n",
    "import pyvips  # Assuming you use pyvips for image processing\n",
    "\n",
    "# Set up the 3x3 grid\n",
    "fig, axes = plt.subplots(3, 3, figsize=(10, 10))  # 3 rows, 3 columns\n",
    "\n",
    "# Flatten the axes for easier indexing\n",
    "axes = axes.flatten()\n",
    "\n",
    "# Iterate through your group data and plot each image\n",
    "for j, (_, cell) in enumerate(group.iterrows()):\n",
    "    if j < len(axes):  # Prevent index errors if group has fewer than 9 items\n",
    "        ax = axes[j]\n",
    "        \n",
    "        # Load the image\n",
    "        img_path = glob.glob(f\"../TCGA_KIRC/data/tcga_kirc_cryo/*/{cell.file_id}*\")[0]\n",
    "        image = pyvips.Image.new_from_file(img_path)\n",
    "        \n",
    "        # Crop the tile\n",
    "        tile_array = crop_tile(image, cell.y, cell.x, 60 * 4)\n",
    "        \n",
    "        # Plot the tile\n",
    "        ax.imshow(tile_array)\n",
    "        #ax.set_title(str(cell.tile_label), fontsize=14)  # Adjust title size for readability\n",
    "        ax.axis('off')  # Remove axis for cleaner visualization\n",
    "\n",
    "# Remove unused subplots (if group has fewer than 9 items)\n",
    "for ax in axes[len(group):]:\n",
    "    ax.axis('off')\n",
    "\n",
    "fig.suptitle(group.tile_label.values[0], fontsize=24, y=0.91)\n",
    "# Adjust spacing between subplots\n",
    "plt.subplots_adjust(wspace=0.05, hspace=0.05)  # Tweak spacing as needed\n",
    "\n",
    "# Save and show the plot\n",
    "plt.savefig(\"../plotting_notebooks/figures/Figure6E-kidney_normal_manual_anno.png\", dpi=300, bbox_inches='tight')\n",
    "plt.show()"
   ]
  },
  {
   "cell_type": "code",
   "execution_count": null,
   "id": "f331035e-0d1a-4866-8e7e-a71bd5cd7d5e",
   "metadata": {},
   "outputs": [],
   "source": [
    "# Combine the groups into a list for easier iteration \n",
    "idx = np.arange(0, 9)\n",
    "data = data.sample(frac=1)\n",
    "sample_idx = (data.file_id == sampleids.index[sample_id]).values\n",
    "group = data[sample_idx].query(\"tile_label == 'TLS'\").iloc[idx]"
   ]
  },
  {
   "cell_type": "code",
   "execution_count": null,
   "id": "d0269386-4997-4b5a-b905-57a4b238f56c",
   "metadata": {},
   "outputs": [],
   "source": [
    "import matplotlib.pyplot as plt\n",
    "import glob\n",
    "import pyvips  # Assuming you use pyvips for image processing\n",
    "\n",
    "# Set up the 3x3 grid\n",
    "fig, axes = plt.subplots(3, 3, figsize=(10, 10))  # 3 rows, 3 columns\n",
    "\n",
    "# Flatten the axes for easier indexing\n",
    "axes = axes.flatten()\n",
    "\n",
    "# Iterate through your group data and plot each image\n",
    "for j, (_, cell) in enumerate(group.iterrows()):\n",
    "    if j < len(axes):  # Prevent index errors if group has fewer than 9 items\n",
    "        ax = axes[j]\n",
    "        \n",
    "        # Load the image\n",
    "        img_path = glob.glob(f\"../TCGA_KIRC/data/tcga_kirc_cryo/*/{cell.file_id}*\")[0]\n",
    "        image = pyvips.Image.new_from_file(img_path)\n",
    "        \n",
    "        # Crop the tile\n",
    "        tile_array = crop_tile(image, cell.y, cell.x, 60 * 4)\n",
    "        \n",
    "        # Plot the tile\n",
    "        ax.imshow(tile_array)\n",
    "        #ax.set_title(str(cell.tile_label), fontsize=14)  # Adjust title size for readability\n",
    "        ax.axis('off')  # Remove axis for cleaner visualization\n",
    "\n",
    "# Remove unused subplots (if group has fewer than 9 items)\n",
    "for ax in axes[len(group):]:\n",
    "    ax.axis('off')\n",
    "fig.suptitle(group.tile_label.values[0], fontsize=24, y=0.91)\n",
    "# Adjust spacing between subplots\n",
    "plt.subplots_adjust(wspace=0.05, hspace=0.05)  # Tweak spacing as needed\n",
    "\n",
    "# Save and show the plot\n",
    "plt.savefig(\"../plotting_notebooks/figures/Figure6E-kidney_tls_manual_anno.png\", dpi=300, bbox_inches='tight')\n",
    "plt.show()"
   ]
  },
  {
   "cell_type": "code",
   "execution_count": null,
   "id": "2ecb0265-f0c6-4c77-aa80-29ba97794374",
   "metadata": {},
   "outputs": [],
   "source": []
  },
  {
   "cell_type": "code",
   "execution_count": null,
   "id": "da898fef-0660-4c2a-83dd-6e4a57c4202a",
   "metadata": {},
   "outputs": [],
   "source": []
  },
  {
   "cell_type": "code",
   "execution_count": null,
   "id": "4fb160e9-4fe4-44de-8352-d676f59d9bfe",
   "metadata": {},
   "outputs": [],
   "source": []
  }
 ],
 "metadata": {
  "kernelspec": {
   "display_name": "nonchev",
   "language": "python",
   "name": "nonchev"
  },
  "language_info": {
   "codemirror_mode": {
    "name": "ipython",
    "version": 3
   },
   "file_extension": ".py",
   "mimetype": "text/x-python",
   "name": "python",
   "nbconvert_exporter": "python",
   "pygments_lexer": "ipython3",
   "version": "3.9.18"
  }
 },
 "nbformat": 4,
 "nbformat_minor": 5
}
