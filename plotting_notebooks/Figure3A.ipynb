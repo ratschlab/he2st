{
 "cells": [
  {
   "cell_type": "code",
   "execution_count": null,
   "id": "44659527-40d7-4c17-a2a7-a3b630cd0aeb",
   "metadata": {},
   "outputs": [],
   "source": [
    "import pandas as pd\n",
    "import numpy as np\n",
    "import plotnine as p9\n",
    "import glob\n",
    "import yaml\n",
    "from plotnine_prism import *"
   ]
  },
  {
   "cell_type": "code",
   "execution_count": null,
   "id": "751e37a0-2896-4f4f-9f87-ee69e9cd3e5f",
   "metadata": {},
   "outputs": [],
   "source": [
    "with open(\"../config.yaml\", \"r\") as stream:\n",
    "    DATASET_INFO = yaml.safe_load(stream)\n",
    "DATASET_INFO"
   ]
  },
  {
   "cell_type": "code",
   "execution_count": null,
   "id": "b76e3b42-9773-4715-bc0c-6247b4308b33",
   "metadata": {},
   "outputs": [],
   "source": [
    "pearson_variation_paths = glob.glob(\"../*/out_benchmark/evaluation/pearson_variation.csv\")\n",
    "pearson_variation_paths\n"
   ]
  },
  {
   "cell_type": "code",
   "execution_count": null,
   "id": "aa0b5eea-9aba-46df-8970-deb8a28a8604",
   "metadata": {},
   "outputs": [],
   "source": [
    "data_var = []\n",
    "for file in pearson_variation_paths:\n",
    "    tab = pd.read_csv(file)\n",
    "    dataset = file.split(\"/\")[1]\n",
    "    if dataset not in DATASET_INFO[\"DATASET_NAME\"]: continue\n",
    "    tab[\"Dataset\"] = DATASET_INFO[\"DATASET_NAME\"][dataset]\n",
    "    data_var.append(tab)\n",
    "data_var = pd.concat(data_var)\n",
    "data_var.Dataset = pd.Categorical(data_var.Dataset, DATASET_INFO[\"DATASET_NAME\"].values())\n",
    "data_var.pearson_median = data_var.pearson_median.astype(float)\n",
    "data_var.pearson_std = data_var.pearson_std.astype(float)\n",
    "data_var"
   ]
  },
  {
   "cell_type": "code",
   "execution_count": null,
   "id": "150b165a-018c-44f1-a702-1c67b29aa979",
   "metadata": {},
   "outputs": [],
   "source": [
    "data_var.query(\"Dataset == 'Tumor Profiler (n=18)' and top_n in [500]\").sort_values(\"pearson_median\")"
   ]
  },
  {
   "cell_type": "code",
   "execution_count": null,
   "id": "20611dc4-e554-4abd-b96d-892826cfd287",
   "metadata": {},
   "outputs": [],
   "source": [
    "data_var.query(\"top_n in [3000]\").sort_values(\"pearson_median\")"
   ]
  },
  {
   "cell_type": "code",
   "execution_count": null,
   "id": "8424992e-283d-4791-8c16-be106c4c5a81",
   "metadata": {},
   "outputs": [],
   "source": [
    "tab = data_var.copy()\n",
    "position_dodge_width = 0.5\n",
    "\n",
    "tab[\"model_rank\"] = tab.groupby(\"Dataset\", observed=False).pearson_median.rank(ascending=False)\n",
    "tab[\"Model\"] = pd.Categorical(tab.model, tab.groupby(\"model\").model_rank.agg(\"median\").sort_values().index)\n",
    "tab.top_n = tab.top_n.astype(\"category\")\n",
    "\n",
    "g = (p9.ggplot(tab, p9.aes(\"top_n\", \"pearson_median\", color=\"Model\"))\n",
    " + p9.geom_line(p9.aes(color=\"Model\", group=\"Model\"), linetype=\"dashed\", \n",
    "                position=p9.position_dodge(width=position_dodge_width))\n",
    " + p9.geom_point(p9.aes(color=\"Model\"), position=p9.position_dodge(width=position_dodge_width), size=0.7) \n",
    " + p9.facet_wrap(\"~Dataset\", scales=\"free_y\", ncol=2)\n",
    " + p9.geom_errorbar(p9.aes(x=\"top_n\", ymin=\"pearson_median-pearson_std\",\n",
    "                           ymax=\"pearson_median+pearson_std\", color=\"Model\"), \n",
    "                    width=0.4, alpha=1, size=0.5,\n",
    "                    position=p9.position_dodge(width=position_dodge_width))\n",
    " + p9.theme_bw()\n",
    " + p9.theme(panel_spacing_y=0, panel_spacing_x=0, figure_size=(14, 6), \n",
    "            #axis_text_x = p9.element_blank(), \n",
    "            legend_position=\"right\",\n",
    "            text=p9.element_text(size=17),\n",
    "            strip_text=p9.element_text(size=17),\n",
    "            legend_title=p9.element_text(size=17),\n",
    "            legend_text=p9.element_text(size=16))\n",
    " + p9.ylab(\"Pearson correlation\")\n",
    " + p9.xlab(\"Most variable genes\")\n",
    " + p9.theme(axis_text_x = p9.element_text(angle = 90, hjust = 1))\n",
    " + scale_color_prism(palette = \"colors\")\n",
    " + p9.guides(color=p9.guide_legend(nrow=10, override_aes = p9.aes(shape = \".\")))\n",
    ")\n",
    "g.save(\"figures/Figure3A-benchmark.png\", dpi=300)\n",
    "g"
   ]
  },
  {
   "cell_type": "code",
   "execution_count": null,
   "id": "9e5e4d64-d061-4087-a909-dd2a43f62f6d",
   "metadata": {},
   "outputs": [],
   "source": []
  },
  {
   "cell_type": "code",
   "execution_count": null,
   "id": "6c84aa37-e201-4218-8d7d-5e03a02826d2",
   "metadata": {},
   "outputs": [],
   "source": []
  }
 ],
 "metadata": {
  "kernelspec": {
   "display_name": "nonchev",
   "language": "python",
   "name": "nonchev"
  },
  "language_info": {
   "codemirror_mode": {
    "name": "ipython",
    "version": 3
   },
   "file_extension": ".py",
   "mimetype": "text/x-python",
   "name": "python",
   "nbconvert_exporter": "python",
   "pygments_lexer": "ipython3",
   "version": "3.9.18"
  }
 },
 "nbformat": 4,
 "nbformat_minor": 5
}
