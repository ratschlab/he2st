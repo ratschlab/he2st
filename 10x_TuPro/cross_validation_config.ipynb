{
 "cells": [
  {
   "cell_type": "code",
   "execution_count": null,
   "id": "13e79d00-7bed-48cb-8a86-e5a98eac0cba",
   "metadata": {},
   "outputs": [],
   "source": [
    "import numpy as np\n",
    "import json\n",
    "import yaml\n",
    "import sys\n",
    "sys.path.append('../')\n",
    "from src.utils import create_cross_validation_folds"
   ]
  },
  {
   "cell_type": "code",
   "execution_count": null,
   "id": "d57e3a62-f5bc-4d0d-89bd-bed06d4bef3e",
   "metadata": {},
   "outputs": [],
   "source": [
    "with open(\"config_dataset.yaml\", \"r\") as stream:\n",
    "    samples = yaml.safe_load(stream)[\"SAMPLE\"]\n",
    "samples[:3]"
   ]
  },
  {
   "cell_type": "code",
   "execution_count": null,
   "id": "a5f48675-8d43-46f3-b121-bc22771775f7",
   "metadata": {},
   "outputs": [],
   "source": [
    "unique_patients = list(set([p.split(\"-\")[0] for p in samples]))\n",
    "patient_replicate_pairs = {p:[s for s in samples if p in s] for p in unique_patients}\n",
    "patient_replicate_pairs"
   ]
  },
  {
   "cell_type": "code",
   "execution_count": null,
   "id": "6c6596e0-be41-4f2e-bed3-3c8d89c197b5",
   "metadata": {},
   "outputs": [],
   "source": [
    "folds = create_cross_validation_folds(patient_replicate_pairs)\n",
    "folds"
   ]
  },
  {
   "cell_type": "code",
   "execution_count": null,
   "id": "3f286fb6-5df5-44ce-9334-ab844f067460",
   "metadata": {},
   "outputs": [],
   "source": [
    "import yaml\n",
    "# remove references\n",
    "yaml.Dumper.ignore_aliases = lambda *args : True\n",
    "with open('cross_validation_config.yaml', 'w+') as ff:\n",
    "    yaml.dump(folds, ff, default_flow_style=False)"
   ]
  },
  {
   "cell_type": "code",
   "execution_count": null,
   "id": "c70d4d63-af51-4e48-a23e-100d18ea0c1b",
   "metadata": {},
   "outputs": [],
   "source": []
  }
 ],
 "metadata": {
  "kernelspec": {
   "display_name": "nonchev",
   "language": "python",
   "name": "nonchev"
  },
  "language_info": {
   "codemirror_mode": {
    "name": "ipython",
    "version": 3
   },
   "file_extension": ".py",
   "mimetype": "text/x-python",
   "name": "python",
   "nbconvert_exporter": "python",
   "pygments_lexer": "ipython3",
   "version": "3.9.18"
  }
 },
 "nbformat": 4,
 "nbformat_minor": 5
}
