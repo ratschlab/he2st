{
 "cells": [
  {
   "cell_type": "code",
   "execution_count": null,
   "id": "0f934662-013d-43aa-8687-7f2c810b9601",
   "metadata": {
    "editable": true,
    "slideshow": {
     "slide_type": ""
    },
    "tags": []
   },
   "outputs": [],
   "source": [
    "import os\n",
    "#os.chdir('../../TCGA_SKCM/') #\n",
    "#os.chdir('../../TCGA_KIRC/') #\n",
    "#os.chdir('../../TCGA_COAD/') #"
   ]
  },
  {
   "cell_type": "code",
   "execution_count": null,
   "id": "ba93734a-66ee-4cf6-9c37-f121261f561b",
   "metadata": {
    "editable": true,
    "slideshow": {
     "slide_type": ""
    },
    "tags": []
   },
   "outputs": [],
   "source": [
    "import pandas as pd\n",
    "import numpy as np\n",
    "import plotnine as p9\n",
    "import scanpy as sc\n",
    "import glob\n",
    "from tqdm import tqdm\n",
    "import pandas as pd\n",
    "import anndata as ad\n",
    "import numpy as np\n",
    "import sys\n",
    "sys.path.append('../')\n",
    "from src.utils import bootstrapping\n",
    "import yaml\n",
    "\n",
    "import glob\n",
    "from tqdm import tqdm\n",
    "import scanpy as sc\n",
    "from concurrent.futures import ProcessPoolExecutor, as_completed\n",
    "\n",
    "from sklearn.model_selection import train_test_split\n",
    "import numpy as np\n",
    "import random\n",
    "from plotnine_prism import *"
   ]
  },
  {
   "cell_type": "code",
   "execution_count": null,
   "id": "a3972b51-7632-468d-b597-68a487aa9aaa",
   "metadata": {
    "editable": true,
    "slideshow": {
     "slide_type": ""
    },
    "tags": [
     "parameters"
    ]
   },
   "outputs": [],
   "source": [
    "out_folder = \"out_benchmark_ffpe\""
   ]
  },
  {
   "cell_type": "code",
   "execution_count": null,
   "id": "da0caf14-5ae0-4909-a6b8-845a569b104c",
   "metadata": {},
   "outputs": [],
   "source": [
    "with open(\"config_dataset.yaml\", \"r\") as stream:\n",
    "    config_dataset = yaml.safe_load(stream)\n",
    "\n",
    "models = config_dataset['MODEL']\n",
    "source_data_path = config_dataset['source_data_path']\n",
    "metadata_path = config_dataset['metadata_path']\n",
    "metadata_path_other = config_dataset['metadata_path_other']\n",
    "metadata_path, metadata_path_other"
   ]
  },
  {
   "cell_type": "code",
   "execution_count": null,
   "id": "e033dc8b-3fb1-4857-a379-8a2233795605",
   "metadata": {},
   "outputs": [],
   "source": [
    "metadata = pd.read_csv(metadata_path)\n",
    "classes = metadata.sample_type.value_counts()[metadata.sample_type.value_counts() > 5].index#\n",
    "metadata = metadata[metadata.sample_type.isin(classes)]\n",
    "metadata[\"isMetastatic\"] = metadata[\"sample_type\"] == \"Metastatic\"\n",
    "metadata"
   ]
  },
  {
   "cell_type": "code",
   "execution_count": null,
   "id": "d7d54e5f-01f1-4f78-9f68-bb73ab96322c",
   "metadata": {},
   "outputs": [],
   "source": [
    "metadata_other = pd.read_csv(metadata_path_other)\n",
    "metadata = metadata[metadata.case_id.isin(metadata_other.case_id)]\n",
    "metadata"
   ]
  },
  {
   "cell_type": "code",
   "execution_count": null,
   "id": "370704c8-0918-4613-b6ef-bba0f1c6da9c",
   "metadata": {},
   "outputs": [],
   "source": [
    "import matplotlib.pyplot as plt \n",
    "metadata.case_id.value_counts().plot.hist(log=1)\n",
    "plt.show()"
   ]
  },
  {
   "cell_type": "code",
   "execution_count": null,
   "id": "67dfafef-ce4a-4402-8be2-da138fda936d",
   "metadata": {},
   "outputs": [],
   "source": [
    "metadata.case_id.value_counts()"
   ]
  },
  {
   "cell_type": "code",
   "execution_count": null,
   "id": "1cb9e842-bcea-4442-ae3a-d31eb80190bf",
   "metadata": {},
   "outputs": [],
   "source": [
    "#metadata = metadata.drop_duplicates('case_id')\n",
    "metadata_labels = metadata.copy()\n",
    "metadata_labels = metadata_labels.drop_duplicates('case_id')\n",
    "metadata_labels = metadata_labels.set_index('case_id')\n",
    "metadata = metadata.set_index('case_id')\n",
    "metadata"
   ]
  },
  {
   "cell_type": "code",
   "execution_count": null,
   "id": "ab910ffe-8c32-4447-bbdf-0b88b1823269",
   "metadata": {},
   "outputs": [],
   "source": [
    "len(metadata.id_pair.unique())"
   ]
  },
  {
   "cell_type": "code",
   "execution_count": null,
   "id": "6ad26a5e-762e-4bb1-aad2-a500da0e8d4b",
   "metadata": {},
   "outputs": [],
   "source": [
    "# Create a dictionary with case_ids as keys and empty lists as values\n",
    "case_ids_to_id_pair = {case_id: [] for case_id in metadata.index.unique()}\n",
    "\n",
    "# Iterate over the rows of the DataFrame and append the id_pair to the corresponding case_id\n",
    "for _, row in metadata.reset_index().iterrows():\n",
    "    case_ids_to_id_pair[row.case_id].append(row.id_pair)\n",
    "case_ids_to_id_pair['TCGA-ER-A2NF']"
   ]
  },
  {
   "cell_type": "code",
   "execution_count": null,
   "id": "87b4be94-b0d6-4c4b-a7bb-a026396ad67b",
   "metadata": {},
   "outputs": [],
   "source": [
    "genes = pd.read_csv(f\"../{source_data_path}/out_benchmark/info_highly_variable_genes.csv\")\n",
    "selected_genes_bool = genes.isPredicted.values\n",
    "genes_predict = genes[selected_genes_bool]\n",
    "genes_predict"
   ]
  },
  {
   "cell_type": "code",
   "execution_count": null,
   "id": "b0e53888-9380-498c-ac34-4e1c171ab7b6",
   "metadata": {},
   "outputs": [],
   "source": [
    "import torch\n",
    "num_workers = torch.get_num_threads()\n",
    "num_workers"
   ]
  },
  {
   "cell_type": "code",
   "execution_count": null,
   "id": "3807594c-60dc-4d1d-a176-ea33e090172b",
   "metadata": {},
   "outputs": [],
   "source": [
    "# Function to process a single file\n",
    "def process_file(case_id):\n",
    "\n",
    "    data = []\n",
    "    \n",
    "    for model in models:\n",
    "        adata = []\n",
    "        for sample_id in case_ids_to_id_pair[case_id]:\n",
    "    \n",
    "            adata.append(sc.read_h5ad(f\"{out_folder}/prediction/{model}/data/h5ad/{sample_id}.h5ad\"))\n",
    "\n",
    "        n_size = np.array([len(a) for a in adata])\n",
    "        n_size = np.argsort(-n_size)\n",
    "        adata = adata[n_size[0]]\n",
    "        \n",
    "        adata.X[adata.X < 0] = 0\n",
    "        predicted_all_bulk = pd.Series(np.median(adata.X, axis=0), index=adata.var.index, name=f\"{model}\")\n",
    "        data.append(predicted_all_bulk)\n",
    "\n",
    "    observed_bulk = []\n",
    "    for sample_id in case_ids_to_id_pair[case_id]:\n",
    "        adata = sc.read_h5ad(f\"{out_folder}/data/h5ad/{sample_id}.h5ad\") # expression is always the same\n",
    "        observed_bulk.append(adata.var.bulk_norm_tpm_unstranded)\n",
    "    observed_bulk = observed_bulk[n_size[0]]\n",
    "    observed_bulk = pd.Series(observed_bulk, index=adata.var.index, name=\"bulk_norm_tpm_unstranded\")\n",
    "    data.append(observed_bulk)\n",
    "\n",
    "\n",
    "    bulk_data = pd.concat(data, axis=1)\n",
    "    bulk_data[\"case_id\"] = case_id\n",
    "    return bulk_data\n"
   ]
  },
  {
   "cell_type": "code",
   "execution_count": null,
   "id": "a45e5912-8d3c-4c4e-985e-0cf92d09caf4",
   "metadata": {},
   "outputs": [],
   "source": [
    "bulk = []\n",
    "\n",
    "# Using ProcessPoolExecutor to parallelize the processing\n",
    "with ProcessPoolExecutor(max_workers=num_workers) as executor:\n",
    "    # Submit all file processing tasks\n",
    "    \n",
    "    futures = [executor.submit(process_file, case_id) for case_id in case_ids_to_id_pair.keys()]\n",
    "\n",
    "    # Collect results as they complete\n",
    "    for future in tqdm(as_completed(futures), total=len(case_ids_to_id_pair.keys())):\n",
    "        bulk.append(future.result())"
   ]
  },
  {
   "cell_type": "code",
   "execution_count": null,
   "id": "25b544bf-5c1a-4aac-8965-ce2d804c2e99",
   "metadata": {},
   "outputs": [],
   "source": [
    "bulk_counts = pd.concat(bulk, axis=0)\n",
    "models = [c for c in bulk_counts.columns if c not in [\"bulk_norm_tpm_unstranded\", \"case_id\"]] #bulk_norm_tpm_unstranded\n",
    "bulk_counts[\"gene_name\"] = bulk_counts.index\n",
    "bulk_counts"
   ]
  },
  {
   "cell_type": "code",
   "execution_count": null,
   "id": "d586fbf3-c593-4ee4-904e-3e02c01f88cc",
   "metadata": {
    "editable": true,
    "slideshow": {
     "slide_type": ""
    },
    "tags": []
   },
   "outputs": [],
   "source": [
    "from sklearn.linear_model import LogisticRegression\n",
    "from sklearn.metrics import f1_score\n",
    "from scipy.stats import bootstrap\n",
    "from sklearn.preprocessing import StandardScaler\n",
    "from sklearn.pipeline import Pipeline\n",
    "\n",
    "\n",
    "def bootstrapping(x_list):\n",
    "    res = bootstrap((x_list,), np.median)\n",
    "    standard_error = res.standard_error\n",
    "    median = np.median(res.bootstrap_distribution)\n",
    "    return [median, standard_error]\n",
    "\n",
    "def get_c_index(bulk, method_name, metadata, random_state=2024, n_repeats=1000):\n",
    "    y = metadata_labels.loc[bulk.index].isMetastatic.values\n",
    "    X = bulk.values\n",
    "    scores = []\n",
    "    for n_patients in [75, 100, 125]:\n",
    "        score_patient = []\n",
    "        for _ in range(n_repeats):\n",
    "            X_train, X_test, y_train, y_test = train_test_split(X, y, train_size=n_patients, stratify=y)\n",
    "            \n",
    "            # Define model and pipeline\n",
    "            pipe = Pipeline([\n",
    "                ('scaler', StandardScaler()),\n",
    "                ('model', LogisticRegression(max_iter=1000))\n",
    "            ])\n",
    "        \n",
    "            pipe.fit(X_train, y_train)\n",
    "            score = f1_score(y_test, pipe.predict(X_test))\n",
    "            \n",
    "            score_patient.append(score)\n",
    "        score_mean, score_std = bootstrapping(score_patient)\n",
    "        scores.append([method_name, score_mean, score_std, n_patients])\n",
    "    \n",
    "    # Calculate mean and std of c-index scores\n",
    "    \n",
    "    out = pd.DataFrame(scores, columns=[\"method\", \"f1_mean\", \"f1_std\", \"n_patients\"])\n",
    "    return out"
   ]
  },
  {
   "cell_type": "code",
   "execution_count": null,
   "id": "4a416fea-b9c4-40c8-a404-132bae940c62",
   "metadata": {
    "editable": true,
    "slideshow": {
     "slide_type": ""
    },
    "tags": []
   },
   "outputs": [],
   "source": [
    "scores = []\n",
    "for st_type in tqdm([\"bulk_norm_tpm_unstranded\", \"DeepSpot\", \"BLEEP\", \"STNet\"]):\n",
    "    bulk = bulk_counts.pivot(index=\"case_id\", columns=\"gene_name\", values=st_type)\n",
    "    if st_type == \"bulk_norm_tpm_unstranded\":\n",
    "        st_type = \"bulk RNA-seq\"\n",
    "    res = get_c_index(bulk, st_type, metadata)\n",
    "    scores.append(res)\n",
    "scores = pd.concat(scores)\n",
    "scores"
   ]
  },
  {
   "cell_type": "code",
   "execution_count": null,
   "id": "5032d735-a5e5-4ee2-a5d2-108e69758973",
   "metadata": {
    "editable": true,
    "slideshow": {
     "slide_type": ""
    },
    "tags": []
   },
   "outputs": [],
   "source": [
    "scores[\"method\"] = pd.Categorical(scores[\"method\"], scores.groupby(\"method\").f1_mean.agg(\"mean\").sort_values(ascending=False).index)\n",
    "scores[\"n_patients\"] = pd.Categorical(scores[\"n_patients\"], sorted(scores[\"n_patients\"].unique()))\n",
    "position_dodge_width = 0.3\n",
    "scores"
   ]
  },
  {
   "cell_type": "code",
   "execution_count": null,
   "id": "9804d9de-4548-4cc9-819d-bb45a8cbe98a",
   "metadata": {
    "editable": true,
    "slideshow": {
     "slide_type": ""
    },
    "tags": []
   },
   "outputs": [],
   "source": [
    "((p9.ggplot(scores, p9.aes(\"n_patients\", \"f1_mean\", color=\"method\", group=\"method\"))) \n",
    " + p9.geom_line(position=p9.position_dodge(width=position_dodge_width), linetype=\"dashed\")\n",
    " + p9.geom_point(\n",
    "     position=p9.position_dodge(width=position_dodge_width)\n",
    " )\n",
    " #+ p9.facet_wrap(\"~n_patients\", scales=\"y_free\")\n",
    " + p9.theme_bw()\n",
    " + p9.geom_errorbar(p9.aes(x=\"n_patients\", ymin=\"f1_mean-f1_std\",\n",
    "                           ymax=\"f1_mean+f1_std\", color=\"method\"), \n",
    "                    width=0.4, alpha=1, size=0.5, \n",
    "                    position=p9.position_dodge(width=position_dodge_width)\n",
    "                   )\n",
    " + scale_color_prism(palette = \"colors\")\n",
    " + p9.theme(axis_text_x = p9.element_text(angle = 90, hjust = 1))\n",
    " + p9.ylab(\"F1 score\")\n",
    ")"
   ]
  },
  {
   "cell_type": "code",
   "execution_count": null,
   "id": "ee49f4eb-98af-4765-8048-f0671d6dfdcc",
   "metadata": {
    "editable": true,
    "slideshow": {
     "slide_type": ""
    },
    "tags": []
   },
   "outputs": [],
   "source": [
    "scores.to_csv(f\"{out_folder}/prediction/tumor_type_prediction.csv\", index=False)"
   ]
  }
 ],
 "metadata": {
  "kernelspec": {
   "display_name": "nonchev",
   "language": "python",
   "name": "nonchev"
  },
  "language_info": {
   "codemirror_mode": {
    "name": "ipython",
    "version": 3
   },
   "file_extension": ".py",
   "mimetype": "text/x-python",
   "name": "python",
   "nbconvert_exporter": "python",
   "pygments_lexer": "ipython3",
   "version": "3.9.18"
  }
 },
 "nbformat": 4,
 "nbformat_minor": 5
}
