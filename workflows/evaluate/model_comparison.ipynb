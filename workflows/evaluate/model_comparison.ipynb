{
 "cells": [
  {
   "cell_type": "code",
   "execution_count": null,
   "id": "fc94710d-1462-4695-9054-bb7c40dc0e45",
   "metadata": {
    "editable": true,
    "slideshow": {
     "slide_type": ""
    },
    "tags": []
   },
   "outputs": [],
   "source": [
    "import os\n",
    "#os.chdir('../../TLS_data/')"
   ]
  },
  {
   "cell_type": "code",
   "execution_count": null,
   "id": "2af216e6-9745-4ee3-982c-953b36bb0b02",
   "metadata": {
    "editable": true,
    "slideshow": {
     "slide_type": ""
    },
    "tags": []
   },
   "outputs": [],
   "source": [
    "from sklearn.metrics import auc\n",
    "from tqdm import tqdm\n",
    "import plotnine as p9\n",
    "import pandas as pd\n",
    "import numpy as np\n",
    "import yaml\n",
    "import shutil\n",
    "#from plotnine_prism import *\n",
    "import sys\n",
    "sys.path.append('../')\n",
    "from src.utils import load_data\n",
    "from src.utils import bootstrapping\n",
    "from src.utils import compute_pearson_top_n\n",
    "from src.utils import compute_area_under_pearson_top_n"
   ]
  },
  {
   "cell_type": "code",
   "execution_count": null,
   "id": "f42c01ce-398e-4b96-80a8-01be97e13bcc",
   "metadata": {
    "editable": true,
    "slideshow": {
     "slide_type": ""
    },
    "tags": [
     "parameters"
    ]
   },
   "outputs": [],
   "source": [
    "out_folder = \"out_benchmark\""
   ]
  },
  {
   "cell_type": "code",
   "execution_count": null,
   "id": "9e3deeb8-467a-4302-81ef-fdb2bd22dc89",
   "metadata": {
    "editable": true,
    "slideshow": {
     "slide_type": ""
    },
    "tags": []
   },
   "outputs": [],
   "source": [
    "with open(\"config_dataset.yaml\", \"r\") as stream:\n",
    "    config_dataset = yaml.safe_load(stream)\n",
    "models = config_dataset[\"MODEL\"]\n",
    "top_n_genes_to_evaluate = config_dataset[\"top_n_genes_to_evaluate\"]\n",
    "models, top_n_genes_to_evaluate"
   ]
  },
  {
   "cell_type": "code",
   "execution_count": null,
   "id": "b26f5415-9cca-4ece-a9d2-c18e6e29af7f",
   "metadata": {
    "editable": true,
    "slideshow": {
     "slide_type": ""
    },
    "tags": []
   },
   "outputs": [],
   "source": [
    "genes = pd.read_csv(f\"{out_folder}/info_highly_variable_genes.csv\")\n",
    "selected_genes_bool = genes.isPredicted.values\n",
    "genes_predict = genes[selected_genes_bool]\n",
    "genes_predict"
   ]
  },
  {
   "cell_type": "code",
   "execution_count": null,
   "id": "88ebbdf8-73fa-4211-bd22-3e0aa1136cdd",
   "metadata": {
    "editable": true,
    "slideshow": {
     "slide_type": ""
    },
    "tags": []
   },
   "outputs": [],
   "source": [
    "scores = []\n",
    "for model in models:\n",
    "\n",
    "    top_model = pd.read_csv(f\"{out_folder}/evaluation/{model}/top_model_per_test_sample.csv\")\n",
    "    model_dict = top_model[[\"test_sample\", \"model\"]].set_index(\"test_sample\").to_dict()['model']\n",
    "\n",
    "    \n",
    "    for test in model_dict.keys():\n",
    "    \n",
    "        file = f\"{out_folder}/evaluation/{test}/gene_scores/test/{model}/{model_dict[test]}.csv\"\n",
    "        score = pd.read_csv(file)\n",
    "        score = score.set_index(\"index\")\n",
    "        score.columns = [\"pearson\"]\n",
    "        score[\"test_sample\"] = test\n",
    "        score[\"model\"] = model\n",
    "        scores.append(score)\n",
    "\n",
    "\n",
    "scores = pd.concat(scores)\n",
    "scores[\"gene\"] = scores.index\n",
    "scores = scores.reset_index(drop=True)\n",
    "scores = compute_pearson_top_n(scores, \"model\", genes_predict)\n",
    "scores"
   ]
  },
  {
   "cell_type": "code",
   "execution_count": null,
   "id": "e41ca2d1-6cd4-43f2-acb4-8f6cf08da536",
   "metadata": {
    "editable": true,
    "slideshow": {
     "slide_type": ""
    },
    "tags": []
   },
   "outputs": [],
   "source": [
    "df_plot = scores.groupby([\"gene\", \"model\", \"top_n\"]).pearson.agg(\"mean\").reset_index()\n",
    "g = (p9.ggplot(df_plot, p9.aes(\"pearson\", color=\"model\")) \n",
    " + p9.geom_density()\n",
    " + p9.facet_wrap(\"~top_n\", ncol=1, scales=\"free_y\")\n",
    " + p9.theme_bw()\n",
    " + p9.theme(figure_size=(8, 12))\n",
    "# + scale_color_prism(palette = \"colors\")\n",
    ")\n",
    "#g.save(f\"{out_folder}/evaluation/pearson_score_test_distribution.png\", dpi=300)\n",
    "g"
   ]
  },
  {
   "cell_type": "code",
   "execution_count": null,
   "id": "6d2da975-1aab-4d66-a96e-71e2ec30f4bd",
   "metadata": {
    "editable": true,
    "slideshow": {
     "slide_type": ""
    },
    "tags": []
   },
   "outputs": [],
   "source": [
    "tab = scores.groupby([\"gene\", \"model\", \"top_n\"]).pearson.agg(\"mean\").reset_index()\n",
    "tab"
   ]
  },
  {
   "cell_type": "code",
   "execution_count": null,
   "id": "a01c912f-b764-49a7-b3f9-c6b356f43157",
   "metadata": {
    "editable": true,
    "slideshow": {
     "slide_type": ""
    },
    "tags": []
   },
   "outputs": [],
   "source": [
    "auc_scores = compute_area_under_pearson_top_n(tab, \"model\", \"pearson\")\n",
    "auc_scores.model = pd.Categorical(auc_scores.model, auc_scores.sort_values(\"auc_mean\", ascending=True).model)\n",
    "auc_scores_dict = auc_scores.set_index(\"model\")[[\"auc_mean\", \"auc_std\"]].to_dict(\"index\")\n",
    "auc_scores"
   ]
  },
  {
   "cell_type": "code",
   "execution_count": null,
   "id": "d7a03e85-8aeb-4817-97a8-107f2c003ca9",
   "metadata": {
    "editable": true,
    "slideshow": {
     "slide_type": ""
    },
    "tags": []
   },
   "outputs": [],
   "source": [
    "auc_scores.to_csv(f\"{out_folder}/evaluation/auc_scores.csv\", index=False)"
   ]
  },
  {
   "cell_type": "code",
   "execution_count": null,
   "id": "0456cd98-eb76-4ac3-8ea9-5f60cd1c1741",
   "metadata": {
    "editable": true,
    "slideshow": {
     "slide_type": ""
    },
    "tags": []
   },
   "outputs": [],
   "source": [
    "position_dodge_width = 0.5\n",
    "g = (p9.ggplot(auc_scores, p9.aes(\"model\", \"auc_mean\", color=\"model\", group='model')) \n",
    " + p9.geom_point(position=p9.position_dodge(width=position_dodge_width))\n",
    " + p9.theme_bw()\n",
    " + p9.geom_errorbar(p9.aes(x=\"model\", ymin=\"auc_mean-auc_std\",\n",
    "                           ymax=\"auc_mean+auc_std\"), \n",
    "                    alpha=1, size=0.5, width=0.2, position=p9.position_dodge(width=position_dodge_width))\n",
    "# + scale_color_prism(palette = \"colors\")\n",
    " + p9.ylab(\"AU under pearson's highly variable genes curve\")\n",
    " + p9.xlab(\"Model\")\n",
    " + p9.ggtitle(\"Test set\")\n",
    " + p9.coord_flip()\n",
    " + p9.theme(legend_position = \"none\")\n",
    ")\n",
    "#g.save(f\"{out_folder}/evaluation/pearson_score_top_top_n.png\", dpi=300)\n",
    "g"
   ]
  },
  {
   "cell_type": "code",
   "execution_count": null,
   "id": "12a0237c-668e-4268-9880-c927aee18e9e",
   "metadata": {
    "editable": true,
    "slideshow": {
     "slide_type": ""
    },
    "tags": []
   },
   "outputs": [],
   "source": [
    "tab = tab.groupby([\"model\", \"top_n\"]).pearson.apply(lambda x: bootstrapping(x)).reset_index()\n",
    "df_plot = pd.DataFrame(tab[\"pearson\"].to_list(), columns=['pearson_median', 'pearson_std'])\n",
    "df_plot[\"model\"] = tab.model\n",
    "df_plot[\"top_n\"] = tab.top_n\n",
    "df_plot"
   ]
  },
  {
   "cell_type": "code",
   "execution_count": null,
   "id": "c48cde93-af9a-4c3d-8cd4-1fb161669b04",
   "metadata": {
    "editable": true,
    "slideshow": {
     "slide_type": ""
    },
    "tags": []
   },
   "outputs": [],
   "source": [
    "df_plot[\"model\"] = pd.Categorical(df_plot[\"model\"], auc_scores.sort_values(\"auc_mean\", ascending=True).model)\n",
    "df_plot[\"model_AUC\"] = df_plot.model.apply(lambda x: f\"{x}: {auc_scores_dict[x]['auc_mean']:.2f}±{auc_scores_dict[x]['auc_std']:.2f}\")"
   ]
  },
  {
   "cell_type": "code",
   "execution_count": null,
   "id": "f590c989-f503-4aa5-826b-89be4a7fb652",
   "metadata": {
    "editable": true,
    "slideshow": {
     "slide_type": ""
    },
    "tags": []
   },
   "outputs": [],
   "source": [
    "df_plot.to_csv(f\"{out_folder}/evaluation/pearson_variation.csv\", index=False)"
   ]
  },
  {
   "cell_type": "code",
   "execution_count": null,
   "id": "a3f3b08d-3f06-4e85-bbff-aa156a705b03",
   "metadata": {
    "editable": true,
    "slideshow": {
     "slide_type": ""
    },
    "tags": []
   },
   "outputs": [],
   "source": [
    "position_dodge_width = 0.5\n",
    "\n",
    "df_plot.top_n = pd.Categorical(df_plot.top_n.astype(str), \n",
    "                                    df_plot.top_n.drop_duplicates().sort_values().astype(str))\n",
    "g = (p9.ggplot(df_plot, p9.aes(\"top_n\", \"pearson_median\", color=\"model_AUC\", group='model_AUC')) \n",
    " + p9.geom_line(linetype=\"dashed\", alpha=0.8, position=p9.position_dodge(width=position_dodge_width))\n",
    " + p9.geom_point(position=p9.position_dodge(width=position_dodge_width))\n",
    " + p9.theme_bw()\n",
    " + p9.geom_errorbar(p9.aes(x=\"top_n\", ymin=\"pearson_median-pearson_std\",ymax=\"pearson_median+pearson_std\"), \n",
    "                    alpha=0.5, size=0.3, width=1, position=p9.position_dodge(width=position_dodge_width))\n",
    "# + scale_color_prism(palette = \"colors\")\n",
    " + p9.ylab(\"Pearson correlation\")\n",
    " + p9.xlab(\"Top highly variable genes\")\n",
    " + p9.theme(figure_size=(16, 8))\n",
    ")\n",
    "#g.save(f\"{out_folder}/evaluation/pearson_score_per_top_n.png\", dpi=300)\n",
    "g"
   ]
  },
  {
   "cell_type": "code",
   "execution_count": null,
   "id": "a0992b4b-0a87-4e47-950f-65ab7f8726f2",
   "metadata": {
    "editable": true,
    "slideshow": {
     "slide_type": ""
    },
    "tags": []
   },
   "outputs": [],
   "source": [
    "df_plot = df_plot[df_plot.top_n.astype(int) == top_n_genes_to_evaluate]\n",
    "df_plot.model = df_plot.model.astype(str)\n",
    "df_plot.model = pd.Categorical(df_plot.model, df_plot.groupby(\"model\").pearson_median.agg('median').sort_values(ascending=True).index)\n",
    "g = (p9.ggplot(df_plot, p9.aes(\"model\", \"pearson_median\", color=\"model\", group='model')) \n",
    " + p9.geom_point(position=p9.position_dodge(width=position_dodge_width))\n",
    " + p9.theme_bw()\n",
    " + p9.geom_errorbar(p9.aes(x=\"model\", ymin=\"pearson_median-pearson_std\",\n",
    "                           ymax=\"pearson_median+pearson_std\"), \n",
    "                    alpha=1, size=0.5, width=0.2, position=p9.position_dodge(width=position_dodge_width))\n",
    "# + scale_color_prism(palette = \"colors\")\n",
    " + p9.ylab(\"Pearson correlation\")\n",
    " + p9.xlab(\"Model\")\n",
    " + p9.ggtitle(\"Test set\")\n",
    " + p9.coord_flip()\n",
    " + p9.theme(legend_position = \"none\")\n",
    ")\n",
    "#g.save(f\"{out_folder}/evaluation/pearson_score_top_top_n.png\", dpi=300)\n",
    "g"
   ]
  },
  {
   "cell_type": "code",
   "execution_count": null,
   "id": "9950226a-c872-4aec-8972-a05e6c374402",
   "metadata": {},
   "outputs": [],
   "source": [
    "df_plot.to_csv(f\"{out_folder}/evaluation/pearson_scores_top_n_{top_n_genes_to_evaluate}.csv\", index=False)"
   ]
  }
 ],
 "metadata": {
  "kernelspec": {
   "display_name": "nonchev",
   "language": "python",
   "name": "nonchev"
  },
  "language_info": {
   "codemirror_mode": {
    "name": "ipython",
    "version": 3
   },
   "file_extension": ".py",
   "mimetype": "text/x-python",
   "name": "python",
   "nbconvert_exporter": "python",
   "pygments_lexer": "ipython3",
   "version": "3.9.18"
  }
 },
 "nbformat": 4,
 "nbformat_minor": 5
}
