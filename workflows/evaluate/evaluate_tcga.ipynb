{
 "cells": [
  {
   "cell_type": "code",
   "execution_count": null,
   "id": "b74e9dc7-3e7f-4e73-9dfd-111d0e16d9ca",
   "metadata": {
    "editable": true,
    "slideshow": {
     "slide_type": ""
    },
    "tags": []
   },
   "outputs": [],
   "source": [
    "import os\n",
    "#os.chdir('../../TCGA_SKCM/')"
   ]
  },
  {
   "cell_type": "code",
   "execution_count": null,
   "id": "40cb47ae-1619-4cdb-82df-0e2a4b2eb556",
   "metadata": {
    "editable": true,
    "slideshow": {
     "slide_type": ""
    },
    "tags": []
   },
   "outputs": [],
   "source": [
    "import scanpy as sc\n",
    "import glob\n",
    "from tqdm import tqdm\n",
    "import pandas as pd\n",
    "import anndata as ad\n",
    "import numpy as np\n",
    "import sys\n",
    "sys.path.append('../')\n",
    "from src.utils import compute_pearson_top_n\n",
    "from src.utils import compute_area_under_pearson_top_n\n",
    "from src.utils import bootstrapping\n",
    "import yaml"
   ]
  },
  {
   "cell_type": "code",
   "execution_count": null,
   "id": "7eeda898-e20c-49a9-8d0e-20d52cff06ec",
   "metadata": {
    "editable": true,
    "slideshow": {
     "slide_type": ""
    },
    "tags": [
     "parameters"
    ]
   },
   "outputs": [],
   "source": [
    "out_folder = \"out_benchmark\""
   ]
  },
  {
   "cell_type": "code",
   "execution_count": null,
   "id": "4d20d792-2e3d-4888-8ec9-d28dbc21e23b",
   "metadata": {},
   "outputs": [],
   "source": [
    "with open(\"config_dataset.yaml\", \"r\") as stream:\n",
    "    config_dataset = yaml.safe_load(stream)\n",
    "\n",
    "models = config_dataset['MODEL']\n",
    "source_data_path = config_dataset['source_data_path']\n",
    "metadata_path = config_dataset['metadata_path']"
   ]
  },
  {
   "cell_type": "code",
   "execution_count": null,
   "id": "25737c4a-1429-4031-bbfa-79ef9b04f07a",
   "metadata": {},
   "outputs": [],
   "source": [
    "id_pair = pd.read_csv(metadata_path).id_pair.values.astype(str)\n",
    "len(id_pair)"
   ]
  },
  {
   "cell_type": "code",
   "execution_count": null,
   "id": "89550b43-9a67-4a09-bcaf-46a2d5248f32",
   "metadata": {},
   "outputs": [],
   "source": [
    "for model in models:\n",
    "    files = glob.glob(f'{out_folder}/prediction/{model}/data/h5ad/*')\n",
    "    files = [f for f in files if f.split('/')[-1].split('.')[0] in id_pair]\n",
    "    print(model, len(files))"
   ]
  },
  {
   "cell_type": "code",
   "execution_count": null,
   "id": "7fa5435b-b3a6-48d2-a4de-9be087f32058",
   "metadata": {
    "editable": true,
    "slideshow": {
     "slide_type": ""
    },
    "tags": []
   },
   "outputs": [],
   "source": [
    "genes = pd.read_csv(f\"../{source_data_path}/out_benchmark/info_highly_variable_genes.csv\")\n",
    "selected_genes_bool = genes.isPredicted.values\n",
    "genes_predict = genes[selected_genes_bool]\n",
    "genes_predict"
   ]
  },
  {
   "cell_type": "code",
   "execution_count": null,
   "id": "ae607ca9-8b98-4534-977b-7eb06de7d4c2",
   "metadata": {
    "editable": true,
    "slideshow": {
     "slide_type": ""
    },
    "tags": []
   },
   "outputs": [],
   "source": [
    "import torch\n",
    "num_workers = torch.get_num_threads()\n",
    "num_workers"
   ]
  },
  {
   "cell_type": "code",
   "execution_count": null,
   "id": "08b1e651-d556-42fb-af61-529ffd59ca51",
   "metadata": {
    "editable": true,
    "slideshow": {
     "slide_type": ""
    },
    "tags": []
   },
   "outputs": [],
   "source": [
    "import glob\n",
    "from tqdm import tqdm\n",
    "import scanpy as sc\n",
    "from concurrent.futures import ProcessPoolExecutor, as_completed\n",
    "\n",
    "# Function to process a single file\n",
    "def process_file(sample_id):\n",
    "\n",
    "    data = []\n",
    "    \n",
    "    adata = sc.read_h5ad(f\"{out_folder}/data/h5ad/{sample_id}.h5ad\")\n",
    "    observed_bulk = adata.var.bulk_norm_tpm_unstranded\n",
    "    data.append(observed_bulk)\n",
    "    for model in models:\n",
    "        \n",
    "    \n",
    "        adata = sc.read_h5ad(f\"{out_folder}/prediction/{model}/data/h5ad/{sample_id}.h5ad\")\n",
    "        adata.X[adata.X < 0] = 0\n",
    "        \n",
    "        expr = adata.X.mean(axis=0)\n",
    "        \n",
    "        predicted_bulk = pd.Series(expr, index=adata.var.index, name=model)\n",
    "        data.append(predicted_bulk)\n",
    "\n",
    "    bulk_data = pd.concat(data, axis=1)\n",
    "    bulk_data[\"sample_id\"] = sample_id\n",
    "    return bulk_data\n",
    "# Main code"
   ]
  },
  {
   "cell_type": "code",
   "execution_count": null,
   "id": "8e3a9cfe-1a51-4ef2-b666-c03093de54d5",
   "metadata": {
    "editable": true,
    "slideshow": {
     "slide_type": ""
    },
    "tags": []
   },
   "outputs": [],
   "source": [
    "bulk = []\n",
    "\n",
    "# Using ProcessPoolExecutor to parallelize the processing\n",
    "with ProcessPoolExecutor(max_workers=num_workers) as executor:\n",
    "    # Submit all file processing tasks\n",
    "    \n",
    "    futures = [executor.submit(process_file, sample_id) for sample_id in id_pair]\n",
    "\n",
    "    # Collect results as they complete\n",
    "    for future in tqdm(as_completed(futures), total=len(id_pair)):\n",
    "        bulk.append(future.result())"
   ]
  },
  {
   "cell_type": "code",
   "execution_count": null,
   "id": "0d365dbf-4764-411e-b9f5-eab020d491c2",
   "metadata": {
    "editable": true,
    "slideshow": {
     "slide_type": ""
    },
    "tags": []
   },
   "outputs": [],
   "source": [
    "bulk_counts = pd.concat(bulk, axis=0)\n",
    "models = [c for c in bulk_counts.columns if c not in [\"bulk_norm_tpm_unstranded\", \"sample_id\"]]\n",
    "bulk_counts[\"gene_name\"] = bulk_counts.index\n",
    "#bulk_counts = bulk_counts.melt([\"sample_id\", \"gene_name\", \"bulk_tpm_unstranded\"])\n",
    "\n",
    "ref_bulk = bulk_counts.pivot(index=\"sample_id\", columns=\"gene_name\", values=\"bulk_norm_tpm_unstranded\")\n",
    "scores = []\n",
    "for model in tqdm(models):\n",
    "    \n",
    "    pred_bulk = bulk_counts.pivot(index=\"sample_id\", columns=\"gene_name\", values=model)\n",
    "\n",
    "    score = ref_bulk.corrwith(pred_bulk, method=\"pearson\").fillna(0).reset_index()\n",
    "    score.columns = [\"gene\", \"pearson\"]\n",
    "    score[\"model\"] = model\n",
    "    scores.append(score)\n",
    "\n",
    "scores = pd.concat(scores)\n",
    "scores = compute_pearson_top_n(scores, \"model\", genes_predict)\n",
    "scores"
   ]
  },
  {
   "cell_type": "code",
   "execution_count": null,
   "id": "aae407c4-601c-48e9-930b-6f6ea10f0716",
   "metadata": {
    "editable": true,
    "slideshow": {
     "slide_type": ""
    },
    "tags": []
   },
   "outputs": [],
   "source": [
    "tab = scores.groupby([\"gene\", \"model\", \"top_n\"]).pearson.agg(\"mean\").reset_index()\n",
    "tab = tab.groupby([\"model\", \"top_n\"]).pearson.apply(lambda x: bootstrapping(x)).reset_index()\n",
    "df_plot = pd.DataFrame(tab[\"pearson\"].to_list(), columns=['pearson_median', 'pearson_std'])\n",
    "df_plot[\"model\"] = tab.model\n",
    "df_plot[\"top_n\"] = tab.top_n\n",
    "df_plot.head()"
   ]
  },
  {
   "cell_type": "code",
   "execution_count": null,
   "id": "ad644ae1-e8c4-4038-9011-81895364aef7",
   "metadata": {
    "editable": true,
    "slideshow": {
     "slide_type": ""
    },
    "tags": []
   },
   "outputs": [],
   "source": [
    "import plotnine as p9\n",
    "position_dodge_width = 0.5\n",
    "\n",
    "df_plot.top_n = pd.Categorical(df_plot.top_n.astype(str), \n",
    "                                    df_plot.top_n.drop_duplicates().sort_values().astype(str))\n",
    "g = (p9.ggplot(df_plot, p9.aes(\"top_n\", \"pearson_median\", color=\"model\", group='model')) \n",
    " + p9.geom_line(linetype=\"dashed\", alpha=0.8, position=p9.position_dodge(width=position_dodge_width))\n",
    " + p9.geom_point(position=p9.position_dodge(width=position_dodge_width))\n",
    " + p9.theme_bw()\n",
    " + p9.geom_errorbar(p9.aes(x=\"top_n\", ymin=\"pearson_median-pearson_std\",ymax=\"pearson_median+pearson_std\"), \n",
    "                    alpha=0.5, size=0.3, width=1, position=p9.position_dodge(width=position_dodge_width))\n",
    "# + scale_color_prism(palette = \"colors\")\n",
    " + p9.ylab(\"Pearson correlation\")\n",
    " + p9.xlab(\"Top highly variable genes\")\n",
    " + p9.theme(figure_size=(16, 8))\n",
    ")\n",
    "#g.save(f\"{out_folder}/evaluation/pearson_score_per_top_n.png\", dpi=300)\n",
    "g"
   ]
  },
  {
   "cell_type": "code",
   "execution_count": null,
   "id": "9950de7c-ebcc-4256-9582-d0a57712f404",
   "metadata": {
    "editable": true,
    "slideshow": {
     "slide_type": ""
    },
    "tags": []
   },
   "outputs": [],
   "source": [
    "df_plot.to_csv(f\"{out_folder}/prediction/model_evaluation_table.csv\", index=False)"
   ]
  }
 ],
 "metadata": {
  "kernelspec": {
   "display_name": "nonchev",
   "language": "python",
   "name": "nonchev"
  },
  "language_info": {
   "codemirror_mode": {
    "name": "ipython",
    "version": 3
   },
   "file_extension": ".py",
   "mimetype": "text/x-python",
   "name": "python",
   "nbconvert_exporter": "python",
   "pygments_lexer": "ipython3",
   "version": "3.9.18"
  }
 },
 "nbformat": 4,
 "nbformat_minor": 5
}
