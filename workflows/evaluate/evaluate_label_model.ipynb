{
 "cells": [
  {
   "cell_type": "code",
   "execution_count": null,
   "id": "ab435e0c-12b5-4ec5-ab96-a36bcfd9dc10",
   "metadata": {},
   "outputs": [],
   "source": [
    "import os\n",
    "#os.chdir('../../TCGA_SKCM/') #\n",
    "#os.chdir('../../TCGA_KIRC/') #"
   ]
  },
  {
   "cell_type": "code",
   "execution_count": null,
   "id": "6ce5b684-492a-4bcd-ad9d-78450e263dcc",
   "metadata": {
    "editable": true,
    "slideshow": {
     "slide_type": ""
    },
    "tags": []
   },
   "outputs": [],
   "source": [
    "import yaml\n",
    "import pandas as pd\n",
    "import glob\n",
    "import plotnine as p9\n",
    "import numpy as np\n",
    "from plotnine_prism import *"
   ]
  },
  {
   "cell_type": "code",
   "execution_count": null,
   "id": "0d232016-d690-45ae-a5b7-9afdf79b9d31",
   "metadata": {
    "editable": true,
    "slideshow": {
     "slide_type": ""
    },
    "tags": [
     "parameters"
    ]
   },
   "outputs": [],
   "source": [
    "out_folder = \"out_benchmark\""
   ]
  },
  {
   "cell_type": "code",
   "execution_count": null,
   "id": "7b044a75-a2a8-4d72-bd18-d2e722b3875b",
   "metadata": {
    "editable": true,
    "slideshow": {
     "slide_type": ""
    },
    "tags": []
   },
   "outputs": [],
   "source": [
    "files = glob.glob(f\"{out_folder}/prediction/*.yaml\")\n",
    "files"
   ]
  },
  {
   "cell_type": "code",
   "execution_count": null,
   "id": "6d6bc14c-c7b5-41ce-ae8b-5aef8dbf3dcd",
   "metadata": {
    "editable": true,
    "slideshow": {
     "slide_type": ""
    },
    "tags": []
   },
   "outputs": [],
   "source": [
    "results = []\n",
    "for file in files:\n",
    "    model = file.split(\"/\")[-1].split(\"_\")[0]\n",
    "    with open(file) as stream:\n",
    "        INFO = yaml.safe_load(stream)\n",
    "    best_model = INFO[\"rank_test_score\"][0] - 1\n",
    "    \n",
    "    mean_test_score = INFO[\"mean_test_score\"][best_model]\n",
    "    std_test_score = INFO[\"std_test_score\"][best_model]\n",
    "    mean_train_score = INFO[\"mean_train_score\"][best_model]\n",
    "    std_train_score = INFO[\"std_train_score\"][best_model]\n",
    "\n",
    "    \n",
    "    results.append([model, mean_test_score, std_test_score, mean_train_score, std_train_score ])\n",
    "results = pd.DataFrame(results, columns=[\"model\", \"mean_test_score\", \"std_test_score\", \"mean_train_score\", \"std_train_score\"])\n",
    "results"
   ]
  },
  {
   "cell_type": "code",
   "execution_count": null,
   "id": "6895c584-c719-4746-ad9c-6d301748832d",
   "metadata": {
    "editable": true,
    "slideshow": {
     "slide_type": ""
    },
    "tags": []
   },
   "outputs": [],
   "source": [
    "results[\"model\"] = pd.Categorical(results[\"model\"], results.sort_values(\"mean_test_score\", ascending=False)[\"model\"])\n",
    "((p9.ggplot(results, p9.aes(\"model\", \"mean_test_score\"))) \n",
    " + p9.geom_point()\n",
    " + p9.theme_bw()\n",
    " + p9.geom_errorbar(p9.aes(x=\"model\", ymin=\"mean_test_score-std_test_score\",\n",
    "                           ymax=\"mean_test_score+std_test_score\", color=\"model\"), \n",
    "                    width=0.4, alpha=1, size=0.5)\n",
    " + scale_color_prism(palette = \"colors\")\n",
    " + p9.ylab(\"Balanced accuaracy\")\n",
    ")"
   ]
  },
  {
   "cell_type": "code",
   "execution_count": null,
   "id": "13b4abba-3965-4a4c-956a-d614edd719f9",
   "metadata": {
    "editable": true,
    "slideshow": {
     "slide_type": ""
    },
    "tags": []
   },
   "outputs": [],
   "source": [
    "results.to_csv(f\"{out_folder}/prediction/label_model_scores.csv\", index=False)"
   ]
  }
 ],
 "metadata": {
  "kernelspec": {
   "display_name": "nonchev",
   "language": "python",
   "name": "nonchev"
  },
  "language_info": {
   "codemirror_mode": {
    "name": "ipython",
    "version": 3
   },
   "file_extension": ".py",
   "mimetype": "text/x-python",
   "name": "python",
   "nbconvert_exporter": "python",
   "pygments_lexer": "ipython3",
   "version": "3.9.18"
  }
 },
 "nbformat": 4,
 "nbformat_minor": 5
}
