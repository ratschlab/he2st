{
 "cells": [
  {
   "cell_type": "code",
   "execution_count": null,
   "id": "0f934662-013d-43aa-8687-7f2c810b9601",
   "metadata": {
    "editable": true,
    "slideshow": {
     "slide_type": ""
    },
    "tags": []
   },
   "outputs": [],
   "source": [
    "import os\n",
    "#os.chdir('../../TCGA_SKCM/') #\n",
    "#os.chdir('../../TCGA_KIRC/') #"
   ]
  },
  {
   "cell_type": "code",
   "execution_count": null,
   "id": "ba93734a-66ee-4cf6-9c37-f121261f561b",
   "metadata": {
    "editable": true,
    "slideshow": {
     "slide_type": ""
    },
    "tags": []
   },
   "outputs": [],
   "source": [
    "import pandas as pd\n",
    "import numpy as np\n",
    "import plotnine as p9\n",
    "import scanpy as sc\n",
    "import glob\n",
    "from tqdm import tqdm\n",
    "import pandas as pd\n",
    "import anndata as ad\n",
    "import numpy as np\n",
    "import sys\n",
    "sys.path.append('../')\n",
    "from src.utils import bootstrapping\n",
    "import yaml\n",
    "\n",
    "import glob\n",
    "from tqdm import tqdm\n",
    "import scanpy as sc\n",
    "from concurrent.futures import ProcessPoolExecutor, as_completed\n",
    "\n",
    "from sklearn.model_selection import train_test_split\n",
    "import numpy as np\n",
    "import random\n",
    "from plotnine_prism import *"
   ]
  },
  {
   "cell_type": "code",
   "execution_count": null,
   "id": "a3972b51-7632-468d-b597-68a487aa9aaa",
   "metadata": {
    "editable": true,
    "slideshow": {
     "slide_type": ""
    },
    "tags": [
     "parameters"
    ]
   },
   "outputs": [],
   "source": [
    "out_folder = \"out_benchmark_ff\""
   ]
  },
  {
   "cell_type": "code",
   "execution_count": null,
   "id": "3b242011-c248-4ec8-8687-563c4e582c75",
   "metadata": {},
   "outputs": [],
   "source": [
    "with open(\"config_dataset.yaml\", \"r\") as stream:\n",
    "    config_dataset = yaml.safe_load(stream)\n",
    "\n",
    "models = config_dataset['MODEL']\n",
    "models = [m for m in models if \"MLP\" not in m]\n",
    "source_data_path = config_dataset['source_data_path']\n",
    "metadata_path = config_dataset['metadata_path']\n",
    "metadata_path_other = config_dataset['metadata_path_other']\n",
    "metadata_path, metadata_path_other"
   ]
  },
  {
   "cell_type": "code",
   "execution_count": null,
   "id": "eabeea13-e3c1-4a49-8614-bd264177683b",
   "metadata": {},
   "outputs": [],
   "source": [
    "metadata = pd.read_csv(metadata_path)\n",
    "metadata"
   ]
  },
  {
   "cell_type": "code",
   "execution_count": null,
   "id": "ce4ccf95-28c2-40f8-bff1-4e6beb4a41a8",
   "metadata": {},
   "outputs": [],
   "source": [
    "metadata_other = pd.read_csv(metadata_path_other)\n",
    "metadata = metadata[metadata.case_id.isin(metadata_other.case_id)]\n",
    "metadata"
   ]
  },
  {
   "cell_type": "code",
   "execution_count": null,
   "id": "4447dfa4-55b5-4bda-8af7-54bfd54e1e06",
   "metadata": {},
   "outputs": [],
   "source": [
    "metadata.case_id.value_counts()"
   ]
  },
  {
   "cell_type": "code",
   "execution_count": null,
   "id": "500529d2-a1cf-4d64-827e-f4ed856a6f04",
   "metadata": {
    "editable": true,
    "slideshow": {
     "slide_type": ""
    },
    "tags": []
   },
   "outputs": [],
   "source": [
    "survival = pd.read_csv(f'{metadata_path.replace(\".csv\", \"\")}_survival.csv')\n",
    "survival = survival[survival.case_id.isin(metadata.case_id)]\n",
    "survival"
   ]
  },
  {
   "cell_type": "code",
   "execution_count": null,
   "id": "c1e29565-364d-47f9-a7bb-18053eb96975",
   "metadata": {
    "editable": true,
    "slideshow": {
     "slide_type": ""
    },
    "tags": []
   },
   "outputs": [],
   "source": [
    "metadata = metadata[metadata.case_id.isin(survival.case_id)]\n",
    "metadata"
   ]
  },
  {
   "cell_type": "code",
   "execution_count": null,
   "id": "eac4f5ac-e761-469c-9bf8-6eac1c968141",
   "metadata": {
    "editable": true,
    "slideshow": {
     "slide_type": ""
    },
    "tags": []
   },
   "outputs": [],
   "source": [
    "# Create a dictionary with case_ids as keys and empty lists as values\n",
    "case_ids_to_id_pair = {case_id: [] for case_id in metadata.case_id.unique()}\n",
    "\n",
    "# Iterate over the rows of the DataFrame and append the id_pair to the corresponding case_id\n",
    "for _, row in metadata.reset_index().iterrows():\n",
    "    case_ids_to_id_pair[row.case_id].append(row.id_pair)"
   ]
  },
  {
   "cell_type": "code",
   "execution_count": null,
   "id": "b36b070c-be2b-4a9e-86f6-ef79db80bd77",
   "metadata": {
    "editable": true,
    "slideshow": {
     "slide_type": ""
    },
    "tags": []
   },
   "outputs": [],
   "source": [
    "survival.censored.value_counts()"
   ]
  },
  {
   "cell_type": "code",
   "execution_count": null,
   "id": "44f596c1-73e2-4f85-b8e5-5fa80acca113",
   "metadata": {},
   "outputs": [],
   "source": [
    "import matplotlib.pyplot as plt  \n",
    "survival[\"event_time\"].plot.hist()\n",
    "plt.show()"
   ]
  },
  {
   "cell_type": "code",
   "execution_count": null,
   "id": "87b4be94-b0d6-4c4b-a7bb-a026396ad67b",
   "metadata": {},
   "outputs": [],
   "source": [
    "genes = pd.read_csv(f\"../{source_data_path}/out_benchmark/info_highly_variable_genes.csv\")\n",
    "selected_genes_bool = genes.isPredicted.values\n",
    "genes_predict = genes[selected_genes_bool]\n",
    "genes_predict"
   ]
  },
  {
   "cell_type": "code",
   "execution_count": null,
   "id": "9ed59ec2-5a83-4f35-aa68-b1ba52e452d5",
   "metadata": {},
   "outputs": [],
   "source": [
    "import torch\n",
    "num_workers = torch.get_num_threads() \n",
    "num_workers"
   ]
  },
  {
   "cell_type": "code",
   "execution_count": null,
   "id": "dbd10e2e-4ad2-4e4d-8fe0-2328683d8c02",
   "metadata": {},
   "outputs": [],
   "source": [
    "# Function to process a single file\n",
    "def process_file(case_id):\n",
    "\n",
    "    data = []\n",
    "    for model in models:\n",
    "        adata = []\n",
    "        for sample_id in case_ids_to_id_pair[case_id]:\n",
    "    \n",
    "            adata.append(sc.read_h5ad(f\"{out_folder}/prediction/{model}/data/h5ad/{sample_id}.h5ad\"))\n",
    "\n",
    "        n_size = np.array([len(a) for a in adata])\n",
    "        n_size = np.argsort(-n_size)\n",
    "        adata = adata[n_size[0]]\n",
    "        adata.X[adata.X < 0] = 0\n",
    "        predicted_all_bulk = pd.Series(np.median(adata.X, axis=0), index=adata.var.index, name=f\"{model}\")\n",
    "        data.append(predicted_all_bulk)\n",
    "\n",
    "    observed_bulk = []\n",
    "    for sample_id in case_ids_to_id_pair[case_id]:\n",
    "        adata = sc.read_h5ad(f\"{out_folder}/data/h5ad/{sample_id}.h5ad\") # expression is always the same\n",
    "        observed_bulk.append(adata.var.bulk_norm_tpm_unstranded)\n",
    "    observed_bulk = observed_bulk[n_size[0]]\n",
    "    observed_bulk = pd.Series(observed_bulk, index=adata.var.index, name=\"bulk_norm_tpm_unstranded\")\n",
    "    data.append(observed_bulk)\n",
    "\n",
    "\n",
    "    bulk_data = pd.concat(data, axis=1)\n",
    "    bulk_data[\"case_id\"] = case_id\n",
    "    return bulk_data\n",
    "# Main code"
   ]
  },
  {
   "cell_type": "code",
   "execution_count": null,
   "id": "23dd72e5-510e-4893-aa23-5338ed7d1cc4",
   "metadata": {},
   "outputs": [],
   "source": [
    "bulk = []\n",
    "\n",
    "# Using ProcessPoolExecutor to parallelize the processing\n",
    "with ProcessPoolExecutor(max_workers=num_workers) as executor:\n",
    "    # Submit all file processing tasks\n",
    "    \n",
    "    futures = [executor.submit(process_file, case_id) for case_id in case_ids_to_id_pair.keys()]\n",
    "\n",
    "    # Collect results as they complete\n",
    "    for future in tqdm(as_completed(futures), total=len(case_ids_to_id_pair.keys())):\n",
    "        bulk.append(future.result())"
   ]
  },
  {
   "cell_type": "code",
   "execution_count": null,
   "id": "3b6e1eb6-6b06-47e6-b9f8-0b87d382e190",
   "metadata": {
    "editable": true,
    "slideshow": {
     "slide_type": ""
    },
    "tags": []
   },
   "outputs": [],
   "source": [
    "bulk_counts = pd.concat(bulk, axis=0)\n",
    "models = [c for c in bulk_counts.columns if c not in [\"bulk_norm_tpm_unstranded\", \"case_id\"]] #bulk_norm_tpm_unstranded\n",
    "bulk_counts[\"gene_name\"] = bulk_counts.index\n",
    "bulk_counts"
   ]
  },
  {
   "cell_type": "code",
   "execution_count": null,
   "id": "d73f48ee-8ad2-43b6-8c22-b9e987e32307",
   "metadata": {
    "editable": true,
    "slideshow": {
     "slide_type": ""
    },
    "tags": []
   },
   "outputs": [],
   "source": [
    "metadata[metadata.case_id.isin(bulk_counts[bulk_counts.DeepSpot.isna()].case_id)]"
   ]
  },
  {
   "cell_type": "code",
   "execution_count": null,
   "id": "565a25fb-499d-4ae6-9609-bdf8666cf251",
   "metadata": {
    "editable": true,
    "slideshow": {
     "slide_type": ""
    },
    "tags": []
   },
   "outputs": [],
   "source": [
    "survival = survival.set_index('case_id')\n",
    "survival"
   ]
  },
  {
   "cell_type": "code",
   "execution_count": null,
   "id": "25e9abb2-6656-43f7-9c8f-2a9e90c1990a",
   "metadata": {
    "editable": true,
    "slideshow": {
     "slide_type": ""
    },
    "tags": []
   },
   "outputs": [],
   "source": [
    "from sklearn.model_selection import cross_val_score\n",
    "from xgbse.metrics import (\n",
    "    concordance_index,\n",
    "    approx_brier_score,\n",
    "    dist_calibration_score\n",
    ")\n",
    "from sklearn.pipeline import Pipeline\n",
    "from sksurv.linear_model import CoxnetSurvivalAnalysis\n",
    "from scipy.stats import bootstrap\n",
    "\n",
    "def bootstrapping(x_list):\n",
    "    res = bootstrap((x_list,), np.median)\n",
    "    standard_error = res.standard_error\n",
    "    median = np.median(res.bootstrap_distribution)\n",
    "    return [median, standard_error]\n",
    "    \n",
    "def get_c_index(bulk, method_name, metadata, random_state=2024, n_repeats=1000):\n",
    "    # Prepare the target (y)\n",
    "    y = survival.loc[bulk.index, [\"censored\", \"event_time\"]].copy()\n",
    "    y[\"censored\"] = y[\"censored\"] != \"Dead\"\n",
    "\n",
    "    \n",
    "    y = y.to_records(index=False)\n",
    "    \n",
    "    X = bulk.values\n",
    "\n",
    "    scores = []\n",
    "    for n_patients in [75, 100, 125]:\n",
    "        score_patient = []\n",
    "        for state in range(n_repeats):\n",
    "\n",
    "            X_train, X_test, y_train, y_test = train_test_split(X, y, \n",
    "                                                                train_size=n_patients, \n",
    "                                                                stratify=y[\"censored\"] != \"Dead\",\n",
    "                                                                random_state=state)\n",
    "            \n",
    "            # Define model and pipeline\n",
    "            pipe = Pipeline([\n",
    "                ('model', CoxnetSurvivalAnalysis(normalize=True))\n",
    "            ])\n",
    "            \n",
    "            pipe.fit(X_train, y_train)\n",
    "            score = pipe.score(X_test, y_test)\n",
    "            \n",
    "            score_patient.append(score)\n",
    "            \n",
    "        score_mean, score_std = bootstrapping(score_patient)\n",
    "        scores.append([method_name, score_mean, score_std, n_patients])\n",
    "    \n",
    "    # Calculate mean and std of c-index scores\n",
    "    out = pd.DataFrame(scores, columns=[\"method\", \"c_mean\", \"c_std\", \"n_patients\"])\n",
    "    \n",
    "    return out"
   ]
  },
  {
   "cell_type": "code",
   "execution_count": null,
   "id": "c2e0c48d-5c68-4634-b778-82f925b602df",
   "metadata": {
    "editable": true,
    "slideshow": {
     "slide_type": ""
    },
    "tags": []
   },
   "outputs": [],
   "source": [
    "models_to_compute = [m for m in bulk_counts.columns if m.split(\"_\")[0] in [\"DeepSpot\", \"BLEEP\", \"STNet\"]]\n",
    "models_to_compute"
   ]
  },
  {
   "cell_type": "code",
   "execution_count": null,
   "id": "1dcc1c24-7849-42f4-8f17-1fc096df0318",
   "metadata": {
    "editable": true,
    "slideshow": {
     "slide_type": ""
    },
    "tags": []
   },
   "outputs": [],
   "source": [
    "scores = []\n",
    "for st_type in tqdm([\"bulk_norm_tpm_unstranded\", *models_to_compute]):\n",
    "    print(st_type)\n",
    "    bulk = bulk_counts.pivot(index=\"case_id\", columns=\"gene_name\", values=st_type)\n",
    "    if st_type == \"bulk_norm_tpm_unstranded\":\n",
    "        st_type = \"bulk RNA-seq\"\n",
    "\n",
    "    res = get_c_index(bulk, st_type, metadata)\n",
    "    scores.append(res)\n",
    "scores = pd.concat(scores)\n",
    "scores"
   ]
  },
  {
   "cell_type": "code",
   "execution_count": null,
   "id": "a3c4dad0-e26e-406e-af4a-bbed1b24fe93",
   "metadata": {
    "editable": true,
    "slideshow": {
     "slide_type": ""
    },
    "tags": []
   },
   "outputs": [],
   "source": [
    "scores[\"method_name\"] = scores[\"method\"].str.split(\"_\").str[0]\n",
    "scores[\"expr_pct\"] = scores[\"method\"].apply(lambda x: x.split(\"_\")[1] if len(x.split(\"_\")) > 1 else \"\")\n",
    "\n",
    "scores[\"method\"] = pd.Categorical(scores[\"method_name\"], scores.groupby(\"method_name\").c_mean.agg(\"mean\").sort_values(ascending=False).index)\n",
    "scores[\"n_patients\"] = pd.Categorical(scores[\"n_patients\"], sorted(scores[\"n_patients\"].unique()))\n",
    "scores[\"line_group\"] = scores[\"method\"].astype(str) + scores[\"n_patients\"].astype(str)\n",
    "position_dodge_width = 0.5\n",
    "scores"
   ]
  },
  {
   "cell_type": "code",
   "execution_count": null,
   "id": "2e618b46-fff6-4b5c-9c1f-73e0b673be6a",
   "metadata": {
    "editable": true,
    "slideshow": {
     "slide_type": ""
    },
    "tags": []
   },
   "outputs": [],
   "source": [
    "((p9.ggplot(scores, p9.aes(\"n_patients\", \"c_mean\", color=\"method\", group=\"method\"))) \n",
    " + p9.geom_line(position=p9.position_dodge(width=position_dodge_width), linetype=\"dashed\")\n",
    " + p9.geom_point(position=p9.position_dodge(width=position_dodge_width)\n",
    " )\n",
    " + p9.theme_bw()\n",
    " + p9.geom_errorbar(p9.aes(x=\"n_patients\", ymin=\"c_mean-c_std\",\n",
    "                           ymax=\"c_mean+c_std\", color=\"method\"), \n",
    "                    width=0.4, alpha=1, size=0.5, \n",
    "                    position=p9.position_dodge(width=position_dodge_width)\n",
    "                   )\n",
    " + scale_color_prism(palette = \"colors\")\n",
    " + p9.theme(axis_text_x = p9.element_text(angle = 90, hjust = 1))\n",
    " + p9.ylab(\"C-index\")\n",
    ")"
   ]
  },
  {
   "cell_type": "code",
   "execution_count": null,
   "id": "b511d278-288e-486f-a277-19843e6e913a",
   "metadata": {
    "editable": true,
    "slideshow": {
     "slide_type": ""
    },
    "tags": []
   },
   "outputs": [],
   "source": [
    "scores.to_csv(f\"{out_folder}/prediction/survival_analysis.csv\", index=False)"
   ]
  },
  {
   "cell_type": "code",
   "execution_count": null,
   "id": "f9e585f8-f731-4ae8-9d2b-d660a60344c4",
   "metadata": {},
   "outputs": [],
   "source": []
  }
 ],
 "metadata": {
  "kernelspec": {
   "display_name": "nonchev",
   "language": "python",
   "name": "nonchev"
  },
  "language_info": {
   "codemirror_mode": {
    "name": "ipython",
    "version": 3
   },
   "file_extension": ".py",
   "mimetype": "text/x-python",
   "name": "python",
   "nbconvert_exporter": "python",
   "pygments_lexer": "ipython3",
   "version": "3.9.18"
  }
 },
 "nbformat": 4,
 "nbformat_minor": 5
}
