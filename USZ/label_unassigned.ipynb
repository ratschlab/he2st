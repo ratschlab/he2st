{
 "cells": [
  {
   "cell_type": "code",
   "execution_count": null,
   "id": "338bbede-3e0f-42bf-af66-24e4000bad4a",
   "metadata": {},
   "outputs": [],
   "source": [
    "import scanpy as sc\n",
    "import pandas as pd\n",
    "import yaml\n",
    "from sklearn.neighbors import KNeighborsClassifier "
   ]
  },
  {
   "cell_type": "code",
   "execution_count": null,
   "id": "abe57cf4-d3af-4485-a6c9-7d6efecb8b27",
   "metadata": {},
   "outputs": [],
   "source": [
    "with open(\"config_dataset.yaml\", \"r\") as stream:\n",
    "    dataset_config = yaml.safe_load(stream)\n",
    "samples = [*dataset_config[\"SAMPLE\"], *dataset_config[\"SAMPLE_LQ\"]]\n",
    "samples"
   ]
  },
  {
   "cell_type": "code",
   "execution_count": null,
   "id": "7a111ecb-e8d7-4c1a-9908-0b7c8b670f6c",
   "metadata": {},
   "outputs": [],
   "source": [
    "for sample in samples:\n",
    "    org_sample_name = sample.replace('-', '_')\n",
    "    mtx_in_file = f\"data/o30773_SpaceRangerCount_v2_1_0_2023-05-18--18-23-28/{org_sample_name}/filtered_feature_bc_matrix/\"\n",
    "    annotation_path = f\"data/aestetik_supervised_clusters/aestetik_{org_sample_name}_supervised_1.5_bgm.csv\"\n",
    "    \n",
    "    refined_cluster = pd.read_csv(annotation_path)\n",
    "    refined_cluster = refined_cluster.set_index(\"Barcode\")\n",
    "\n",
    "    adata = sc.read_10x_mtx(mtx_in_file)\n",
    "    break\n",
    "    adata.obs = adata.obs.merge(refined_cluster, left_index=True, right_index=True, how=\"left\")\n",
    "    adata = adata[adata.obs[\"manual_anno\"] != \"EXCL\",:] # remove empty spots\n",
    "    adata = adata[~adata.obs[\"manual_anno\"].isna(),:] # remove empty spots\n",
    "    \n",
    "    sc.pp.normalize_total(adata, target_sum=10000)\n",
    "    sc.pp.log1p(adata)\n",
    "    sc.pp.pca(adata)\n",
    "    sc.pp.neighbors(adata)\n",
    "    sc.tl.umap(adata)\n",
    "    X = adata[adata.obs.aestetik_manual_anno != 'UNASSIGNED'].obsm[\"X_pca\"]\n",
    "    y = adata[adata.obs.aestetik_manual_anno != 'UNASSIGNED'].obs.aestetik_manual_anno\n",
    "    knn = KNeighborsClassifier(5).fit(X, y)\n",
    "    adata.obs[\"knn_label\"] = knn.predict(adata.obsm[\"X_pca\"])\n",
    "    sc.pl.umap(adata, color=['aestetik_manual_anno', 'knn_label'])\n",
    "    adata.obs[['manual_anno', 'aestetik_manual_anno', 'aestetik_manual_anno_tls', 'knn_label']].to_csv(f\"data/knn_labels/{sample}.csv\")"
   ]
  },
  {
   "cell_type": "code",
   "execution_count": null,
   "id": "37c9e337-bed8-4736-8d7b-59ea2ca4d9b2",
   "metadata": {},
   "outputs": [],
   "source": [
    "adata.obs = adata.obs.merge(refined_cluster, left_index=True, right_index=True, how=\"left\")\n",
    "adata.obs"
   ]
  },
  {
   "cell_type": "code",
   "execution_count": null,
   "id": "3b61bbdd-686e-4bc3-b9bf-6b2589531824",
   "metadata": {},
   "outputs": [],
   "source": []
  }
 ],
 "metadata": {
  "kernelspec": {
   "display_name": "nonchev",
   "language": "python",
   "name": "nonchev"
  },
  "language_info": {
   "codemirror_mode": {
    "name": "ipython",
    "version": 3
   },
   "file_extension": ".py",
   "mimetype": "text/x-python",
   "name": "python",
   "nbconvert_exporter": "python",
   "pygments_lexer": "ipython3",
   "version": "3.9.18"
  }
 },
 "nbformat": 4,
 "nbformat_minor": 5
}
