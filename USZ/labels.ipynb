{
 "cells": [
  {
   "cell_type": "code",
   "execution_count": null,
   "id": "6f783aab-5b18-4773-9075-88a431fb260d",
   "metadata": {},
   "outputs": [],
   "source": [
    "import scanpy as sc\n",
    "import squidpy as sq\n",
    "import yaml"
   ]
  },
  {
   "cell_type": "code",
   "execution_count": null,
   "id": "b8d27d80-8dcd-45ea-81bf-7a36193d45e9",
   "metadata": {},
   "outputs": [],
   "source": [
    "with open(\"config_dataset.yaml\", \"r\") as stream:\n",
    "    samples = yaml.safe_load(stream)[\"SAMPLE\"]\n",
    "samples"
   ]
  },
  {
   "cell_type": "code",
   "execution_count": null,
   "id": "fc2574a0-990f-422d-8a5c-9eaeac93f98f",
   "metadata": {},
   "outputs": [],
   "source": [
    "for sample in samples:\n",
    "    adata = sc.read_h5ad(f\"out_benchmark/data/h5ad/{sample}.h5ad\")\n",
    "    print(adata.shape)\n",
    "    sq.pl.spatial_scatter(adata, \n",
    "                          color=\"ground_truth\",\n",
    "                          dpi=300,\n",
    "                          alpha=0.8,\n",
    "                          size=10)\n",
    "    "
   ]
  },
  {
   "cell_type": "code",
   "execution_count": null,
   "id": "93f30478-b43a-4bdf-b203-6502b33d825e",
   "metadata": {},
   "outputs": [],
   "source": []
  }
 ],
 "metadata": {
  "kernelspec": {
   "display_name": "nonchev",
   "language": "python",
   "name": "nonchev"
  },
  "language_info": {
   "codemirror_mode": {
    "name": "ipython",
    "version": 3
   },
   "file_extension": ".py",
   "mimetype": "text/x-python",
   "name": "python",
   "nbconvert_exporter": "python",
   "pygments_lexer": "ipython3",
   "version": "3.9.18"
  }
 },
 "nbformat": 4,
 "nbformat_minor": 5
}
